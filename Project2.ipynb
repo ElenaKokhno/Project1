{
 "cells": [
  {
   "cell_type": "markdown",
   "metadata": {},
   "source": [
    "СБОРНЫЙ ПРОЕКТ: Мы работаем в интернет-магазине «Стримчик», который продаёт по всему миру компьютерные игры. Из открытых источников доступны исторические данные о продажах игр, оценки пользователей и экспертов, жанры и платформы. Нам нужно выявить определяющие успешность игры закономерности. Это позволит нам сделать ставку на потенциально популярный продукт и спланировать рекламные кампании."
   ]
  },
  {
   "cell_type": "code",
   "execution_count": 69,
   "metadata": {},
   "outputs": [
    {
     "data": {
      "text/html": [
       "<div>\n",
       "<style scoped>\n",
       "    .dataframe tbody tr th:only-of-type {\n",
       "        vertical-align: middle;\n",
       "    }\n",
       "\n",
       "    .dataframe tbody tr th {\n",
       "        vertical-align: top;\n",
       "    }\n",
       "\n",
       "    .dataframe thead th {\n",
       "        text-align: right;\n",
       "    }\n",
       "</style>\n",
       "<table border=\"1\" class=\"dataframe\">\n",
       "  <thead>\n",
       "    <tr style=\"text-align: right;\">\n",
       "      <th></th>\n",
       "      <th>Name</th>\n",
       "      <th>Platform</th>\n",
       "      <th>Year_of_Release</th>\n",
       "      <th>Genre</th>\n",
       "      <th>NA_sales</th>\n",
       "      <th>EU_sales</th>\n",
       "      <th>JP_sales</th>\n",
       "      <th>Other_sales</th>\n",
       "      <th>Critic_Score</th>\n",
       "      <th>User_Score</th>\n",
       "      <th>Rating</th>\n",
       "    </tr>\n",
       "  </thead>\n",
       "  <tbody>\n",
       "    <tr>\n",
       "      <th>0</th>\n",
       "      <td>Wii Sports</td>\n",
       "      <td>Wii</td>\n",
       "      <td>2006.0</td>\n",
       "      <td>Sports</td>\n",
       "      <td>41.36</td>\n",
       "      <td>28.96</td>\n",
       "      <td>3.77</td>\n",
       "      <td>8.45</td>\n",
       "      <td>76.0</td>\n",
       "      <td>8</td>\n",
       "      <td>E</td>\n",
       "    </tr>\n",
       "    <tr>\n",
       "      <th>1</th>\n",
       "      <td>Super Mario Bros.</td>\n",
       "      <td>NES</td>\n",
       "      <td>1985.0</td>\n",
       "      <td>Platform</td>\n",
       "      <td>29.08</td>\n",
       "      <td>3.58</td>\n",
       "      <td>6.81</td>\n",
       "      <td>0.77</td>\n",
       "      <td>NaN</td>\n",
       "      <td>NaN</td>\n",
       "      <td>NaN</td>\n",
       "    </tr>\n",
       "    <tr>\n",
       "      <th>2</th>\n",
       "      <td>Mario Kart Wii</td>\n",
       "      <td>Wii</td>\n",
       "      <td>2008.0</td>\n",
       "      <td>Racing</td>\n",
       "      <td>15.68</td>\n",
       "      <td>12.76</td>\n",
       "      <td>3.79</td>\n",
       "      <td>3.29</td>\n",
       "      <td>82.0</td>\n",
       "      <td>8.3</td>\n",
       "      <td>E</td>\n",
       "    </tr>\n",
       "    <tr>\n",
       "      <th>3</th>\n",
       "      <td>Wii Sports Resort</td>\n",
       "      <td>Wii</td>\n",
       "      <td>2009.0</td>\n",
       "      <td>Sports</td>\n",
       "      <td>15.61</td>\n",
       "      <td>10.93</td>\n",
       "      <td>3.28</td>\n",
       "      <td>2.95</td>\n",
       "      <td>80.0</td>\n",
       "      <td>8</td>\n",
       "      <td>E</td>\n",
       "    </tr>\n",
       "    <tr>\n",
       "      <th>4</th>\n",
       "      <td>Pokemon Red/Pokemon Blue</td>\n",
       "      <td>GB</td>\n",
       "      <td>1996.0</td>\n",
       "      <td>Role-Playing</td>\n",
       "      <td>11.27</td>\n",
       "      <td>8.89</td>\n",
       "      <td>10.22</td>\n",
       "      <td>1.00</td>\n",
       "      <td>NaN</td>\n",
       "      <td>NaN</td>\n",
       "      <td>NaN</td>\n",
       "    </tr>\n",
       "    <tr>\n",
       "      <th>5</th>\n",
       "      <td>Tetris</td>\n",
       "      <td>GB</td>\n",
       "      <td>1989.0</td>\n",
       "      <td>Puzzle</td>\n",
       "      <td>23.20</td>\n",
       "      <td>2.26</td>\n",
       "      <td>4.22</td>\n",
       "      <td>0.58</td>\n",
       "      <td>NaN</td>\n",
       "      <td>NaN</td>\n",
       "      <td>NaN</td>\n",
       "    </tr>\n",
       "    <tr>\n",
       "      <th>6</th>\n",
       "      <td>New Super Mario Bros.</td>\n",
       "      <td>DS</td>\n",
       "      <td>2006.0</td>\n",
       "      <td>Platform</td>\n",
       "      <td>11.28</td>\n",
       "      <td>9.14</td>\n",
       "      <td>6.50</td>\n",
       "      <td>2.88</td>\n",
       "      <td>89.0</td>\n",
       "      <td>8.5</td>\n",
       "      <td>E</td>\n",
       "    </tr>\n",
       "    <tr>\n",
       "      <th>7</th>\n",
       "      <td>Wii Play</td>\n",
       "      <td>Wii</td>\n",
       "      <td>2006.0</td>\n",
       "      <td>Misc</td>\n",
       "      <td>13.96</td>\n",
       "      <td>9.18</td>\n",
       "      <td>2.93</td>\n",
       "      <td>2.84</td>\n",
       "      <td>58.0</td>\n",
       "      <td>6.6</td>\n",
       "      <td>E</td>\n",
       "    </tr>\n",
       "    <tr>\n",
       "      <th>8</th>\n",
       "      <td>New Super Mario Bros. Wii</td>\n",
       "      <td>Wii</td>\n",
       "      <td>2009.0</td>\n",
       "      <td>Platform</td>\n",
       "      <td>14.44</td>\n",
       "      <td>6.94</td>\n",
       "      <td>4.70</td>\n",
       "      <td>2.24</td>\n",
       "      <td>87.0</td>\n",
       "      <td>8.4</td>\n",
       "      <td>E</td>\n",
       "    </tr>\n",
       "    <tr>\n",
       "      <th>9</th>\n",
       "      <td>Duck Hunt</td>\n",
       "      <td>NES</td>\n",
       "      <td>1984.0</td>\n",
       "      <td>Shooter</td>\n",
       "      <td>26.93</td>\n",
       "      <td>0.63</td>\n",
       "      <td>0.28</td>\n",
       "      <td>0.47</td>\n",
       "      <td>NaN</td>\n",
       "      <td>NaN</td>\n",
       "      <td>NaN</td>\n",
       "    </tr>\n",
       "  </tbody>\n",
       "</table>\n",
       "</div>"
      ],
      "text/plain": [
       "                        Name Platform  Year_of_Release         Genre  \\\n",
       "0                 Wii Sports      Wii           2006.0        Sports   \n",
       "1          Super Mario Bros.      NES           1985.0      Platform   \n",
       "2             Mario Kart Wii      Wii           2008.0        Racing   \n",
       "3          Wii Sports Resort      Wii           2009.0        Sports   \n",
       "4   Pokemon Red/Pokemon Blue       GB           1996.0  Role-Playing   \n",
       "5                     Tetris       GB           1989.0        Puzzle   \n",
       "6      New Super Mario Bros.       DS           2006.0      Platform   \n",
       "7                   Wii Play      Wii           2006.0          Misc   \n",
       "8  New Super Mario Bros. Wii      Wii           2009.0      Platform   \n",
       "9                  Duck Hunt      NES           1984.0       Shooter   \n",
       "\n",
       "   NA_sales  EU_sales  JP_sales  Other_sales  Critic_Score User_Score Rating  \n",
       "0     41.36     28.96      3.77         8.45          76.0          8      E  \n",
       "1     29.08      3.58      6.81         0.77           NaN        NaN    NaN  \n",
       "2     15.68     12.76      3.79         3.29          82.0        8.3      E  \n",
       "3     15.61     10.93      3.28         2.95          80.0          8      E  \n",
       "4     11.27      8.89     10.22         1.00           NaN        NaN    NaN  \n",
       "5     23.20      2.26      4.22         0.58           NaN        NaN    NaN  \n",
       "6     11.28      9.14      6.50         2.88          89.0        8.5      E  \n",
       "7     13.96      9.18      2.93         2.84          58.0        6.6      E  \n",
       "8     14.44      6.94      4.70         2.24          87.0        8.4      E  \n",
       "9     26.93      0.63      0.28         0.47           NaN        NaN    NaN  "
      ]
     },
     "execution_count": 69,
     "metadata": {},
     "output_type": "execute_result"
    }
   ],
   "source": [
    "import pandas as pd\n",
    "data = pd.read_csv('/datasets/games.csv')\n",
    "data.head(10)"
   ]
  },
  {
   "cell_type": "markdown",
   "metadata": {},
   "source": [
    "Подготовка данных:\n",
    "Заменяем названия столбцов (приводим к нижнему регистру)"
   ]
  },
  {
   "cell_type": "code",
   "execution_count": 70,
   "metadata": {},
   "outputs": [],
   "source": [
    "data.columns = data.columns.str.lower()"
   ]
  },
  {
   "cell_type": "code",
   "execution_count": 71,
   "metadata": {},
   "outputs": [
    {
     "data": {
      "text/html": [
       "<div>\n",
       "<style scoped>\n",
       "    .dataframe tbody tr th:only-of-type {\n",
       "        vertical-align: middle;\n",
       "    }\n",
       "\n",
       "    .dataframe tbody tr th {\n",
       "        vertical-align: top;\n",
       "    }\n",
       "\n",
       "    .dataframe thead th {\n",
       "        text-align: right;\n",
       "    }\n",
       "</style>\n",
       "<table border=\"1\" class=\"dataframe\">\n",
       "  <thead>\n",
       "    <tr style=\"text-align: right;\">\n",
       "      <th></th>\n",
       "      <th>name</th>\n",
       "      <th>platform</th>\n",
       "      <th>year_of_release</th>\n",
       "      <th>genre</th>\n",
       "      <th>na_sales</th>\n",
       "      <th>eu_sales</th>\n",
       "      <th>jp_sales</th>\n",
       "      <th>other_sales</th>\n",
       "      <th>critic_score</th>\n",
       "      <th>user_score</th>\n",
       "      <th>rating</th>\n",
       "    </tr>\n",
       "  </thead>\n",
       "  <tbody>\n",
       "    <tr>\n",
       "      <th>0</th>\n",
       "      <td>Wii Sports</td>\n",
       "      <td>Wii</td>\n",
       "      <td>2006.0</td>\n",
       "      <td>Sports</td>\n",
       "      <td>41.36</td>\n",
       "      <td>28.96</td>\n",
       "      <td>3.77</td>\n",
       "      <td>8.45</td>\n",
       "      <td>76.0</td>\n",
       "      <td>8</td>\n",
       "      <td>E</td>\n",
       "    </tr>\n",
       "    <tr>\n",
       "      <th>1</th>\n",
       "      <td>Super Mario Bros.</td>\n",
       "      <td>NES</td>\n",
       "      <td>1985.0</td>\n",
       "      <td>Platform</td>\n",
       "      <td>29.08</td>\n",
       "      <td>3.58</td>\n",
       "      <td>6.81</td>\n",
       "      <td>0.77</td>\n",
       "      <td>NaN</td>\n",
       "      <td>NaN</td>\n",
       "      <td>NaN</td>\n",
       "    </tr>\n",
       "    <tr>\n",
       "      <th>2</th>\n",
       "      <td>Mario Kart Wii</td>\n",
       "      <td>Wii</td>\n",
       "      <td>2008.0</td>\n",
       "      <td>Racing</td>\n",
       "      <td>15.68</td>\n",
       "      <td>12.76</td>\n",
       "      <td>3.79</td>\n",
       "      <td>3.29</td>\n",
       "      <td>82.0</td>\n",
       "      <td>8.3</td>\n",
       "      <td>E</td>\n",
       "    </tr>\n",
       "    <tr>\n",
       "      <th>3</th>\n",
       "      <td>Wii Sports Resort</td>\n",
       "      <td>Wii</td>\n",
       "      <td>2009.0</td>\n",
       "      <td>Sports</td>\n",
       "      <td>15.61</td>\n",
       "      <td>10.93</td>\n",
       "      <td>3.28</td>\n",
       "      <td>2.95</td>\n",
       "      <td>80.0</td>\n",
       "      <td>8</td>\n",
       "      <td>E</td>\n",
       "    </tr>\n",
       "    <tr>\n",
       "      <th>4</th>\n",
       "      <td>Pokemon Red/Pokemon Blue</td>\n",
       "      <td>GB</td>\n",
       "      <td>1996.0</td>\n",
       "      <td>Role-Playing</td>\n",
       "      <td>11.27</td>\n",
       "      <td>8.89</td>\n",
       "      <td>10.22</td>\n",
       "      <td>1.00</td>\n",
       "      <td>NaN</td>\n",
       "      <td>NaN</td>\n",
       "      <td>NaN</td>\n",
       "    </tr>\n",
       "    <tr>\n",
       "      <th>5</th>\n",
       "      <td>Tetris</td>\n",
       "      <td>GB</td>\n",
       "      <td>1989.0</td>\n",
       "      <td>Puzzle</td>\n",
       "      <td>23.20</td>\n",
       "      <td>2.26</td>\n",
       "      <td>4.22</td>\n",
       "      <td>0.58</td>\n",
       "      <td>NaN</td>\n",
       "      <td>NaN</td>\n",
       "      <td>NaN</td>\n",
       "    </tr>\n",
       "    <tr>\n",
       "      <th>6</th>\n",
       "      <td>New Super Mario Bros.</td>\n",
       "      <td>DS</td>\n",
       "      <td>2006.0</td>\n",
       "      <td>Platform</td>\n",
       "      <td>11.28</td>\n",
       "      <td>9.14</td>\n",
       "      <td>6.50</td>\n",
       "      <td>2.88</td>\n",
       "      <td>89.0</td>\n",
       "      <td>8.5</td>\n",
       "      <td>E</td>\n",
       "    </tr>\n",
       "    <tr>\n",
       "      <th>7</th>\n",
       "      <td>Wii Play</td>\n",
       "      <td>Wii</td>\n",
       "      <td>2006.0</td>\n",
       "      <td>Misc</td>\n",
       "      <td>13.96</td>\n",
       "      <td>9.18</td>\n",
       "      <td>2.93</td>\n",
       "      <td>2.84</td>\n",
       "      <td>58.0</td>\n",
       "      <td>6.6</td>\n",
       "      <td>E</td>\n",
       "    </tr>\n",
       "    <tr>\n",
       "      <th>8</th>\n",
       "      <td>New Super Mario Bros. Wii</td>\n",
       "      <td>Wii</td>\n",
       "      <td>2009.0</td>\n",
       "      <td>Platform</td>\n",
       "      <td>14.44</td>\n",
       "      <td>6.94</td>\n",
       "      <td>4.70</td>\n",
       "      <td>2.24</td>\n",
       "      <td>87.0</td>\n",
       "      <td>8.4</td>\n",
       "      <td>E</td>\n",
       "    </tr>\n",
       "    <tr>\n",
       "      <th>9</th>\n",
       "      <td>Duck Hunt</td>\n",
       "      <td>NES</td>\n",
       "      <td>1984.0</td>\n",
       "      <td>Shooter</td>\n",
       "      <td>26.93</td>\n",
       "      <td>0.63</td>\n",
       "      <td>0.28</td>\n",
       "      <td>0.47</td>\n",
       "      <td>NaN</td>\n",
       "      <td>NaN</td>\n",
       "      <td>NaN</td>\n",
       "    </tr>\n",
       "    <tr>\n",
       "      <th>10</th>\n",
       "      <td>Nintendogs</td>\n",
       "      <td>DS</td>\n",
       "      <td>2005.0</td>\n",
       "      <td>Simulation</td>\n",
       "      <td>9.05</td>\n",
       "      <td>10.95</td>\n",
       "      <td>1.93</td>\n",
       "      <td>2.74</td>\n",
       "      <td>NaN</td>\n",
       "      <td>NaN</td>\n",
       "      <td>NaN</td>\n",
       "    </tr>\n",
       "    <tr>\n",
       "      <th>11</th>\n",
       "      <td>Mario Kart DS</td>\n",
       "      <td>DS</td>\n",
       "      <td>2005.0</td>\n",
       "      <td>Racing</td>\n",
       "      <td>9.71</td>\n",
       "      <td>7.47</td>\n",
       "      <td>4.13</td>\n",
       "      <td>1.90</td>\n",
       "      <td>91.0</td>\n",
       "      <td>8.6</td>\n",
       "      <td>E</td>\n",
       "    </tr>\n",
       "    <tr>\n",
       "      <th>12</th>\n",
       "      <td>Pokemon Gold/Pokemon Silver</td>\n",
       "      <td>GB</td>\n",
       "      <td>1999.0</td>\n",
       "      <td>Role-Playing</td>\n",
       "      <td>9.00</td>\n",
       "      <td>6.18</td>\n",
       "      <td>7.20</td>\n",
       "      <td>0.71</td>\n",
       "      <td>NaN</td>\n",
       "      <td>NaN</td>\n",
       "      <td>NaN</td>\n",
       "    </tr>\n",
       "    <tr>\n",
       "      <th>13</th>\n",
       "      <td>Wii Fit</td>\n",
       "      <td>Wii</td>\n",
       "      <td>2007.0</td>\n",
       "      <td>Sports</td>\n",
       "      <td>8.92</td>\n",
       "      <td>8.03</td>\n",
       "      <td>3.60</td>\n",
       "      <td>2.15</td>\n",
       "      <td>80.0</td>\n",
       "      <td>7.7</td>\n",
       "      <td>E</td>\n",
       "    </tr>\n",
       "    <tr>\n",
       "      <th>14</th>\n",
       "      <td>Kinect Adventures!</td>\n",
       "      <td>X360</td>\n",
       "      <td>2010.0</td>\n",
       "      <td>Misc</td>\n",
       "      <td>15.00</td>\n",
       "      <td>4.89</td>\n",
       "      <td>0.24</td>\n",
       "      <td>1.69</td>\n",
       "      <td>61.0</td>\n",
       "      <td>6.3</td>\n",
       "      <td>E</td>\n",
       "    </tr>\n",
       "    <tr>\n",
       "      <th>15</th>\n",
       "      <td>Wii Fit Plus</td>\n",
       "      <td>Wii</td>\n",
       "      <td>2009.0</td>\n",
       "      <td>Sports</td>\n",
       "      <td>9.01</td>\n",
       "      <td>8.49</td>\n",
       "      <td>2.53</td>\n",
       "      <td>1.77</td>\n",
       "      <td>80.0</td>\n",
       "      <td>7.4</td>\n",
       "      <td>E</td>\n",
       "    </tr>\n",
       "    <tr>\n",
       "      <th>16</th>\n",
       "      <td>Grand Theft Auto V</td>\n",
       "      <td>PS3</td>\n",
       "      <td>2013.0</td>\n",
       "      <td>Action</td>\n",
       "      <td>7.02</td>\n",
       "      <td>9.09</td>\n",
       "      <td>0.98</td>\n",
       "      <td>3.96</td>\n",
       "      <td>97.0</td>\n",
       "      <td>8.2</td>\n",
       "      <td>M</td>\n",
       "    </tr>\n",
       "    <tr>\n",
       "      <th>17</th>\n",
       "      <td>Grand Theft Auto: San Andreas</td>\n",
       "      <td>PS2</td>\n",
       "      <td>2004.0</td>\n",
       "      <td>Action</td>\n",
       "      <td>9.43</td>\n",
       "      <td>0.40</td>\n",
       "      <td>0.41</td>\n",
       "      <td>10.57</td>\n",
       "      <td>95.0</td>\n",
       "      <td>9</td>\n",
       "      <td>M</td>\n",
       "    </tr>\n",
       "    <tr>\n",
       "      <th>18</th>\n",
       "      <td>Super Mario World</td>\n",
       "      <td>SNES</td>\n",
       "      <td>1990.0</td>\n",
       "      <td>Platform</td>\n",
       "      <td>12.78</td>\n",
       "      <td>3.75</td>\n",
       "      <td>3.54</td>\n",
       "      <td>0.55</td>\n",
       "      <td>NaN</td>\n",
       "      <td>NaN</td>\n",
       "      <td>NaN</td>\n",
       "    </tr>\n",
       "    <tr>\n",
       "      <th>19</th>\n",
       "      <td>Brain Age: Train Your Brain in Minutes a Day</td>\n",
       "      <td>DS</td>\n",
       "      <td>2005.0</td>\n",
       "      <td>Misc</td>\n",
       "      <td>4.74</td>\n",
       "      <td>9.20</td>\n",
       "      <td>4.16</td>\n",
       "      <td>2.04</td>\n",
       "      <td>77.0</td>\n",
       "      <td>7.9</td>\n",
       "      <td>E</td>\n",
       "    </tr>\n",
       "  </tbody>\n",
       "</table>\n",
       "</div>"
      ],
      "text/plain": [
       "                                            name platform  year_of_release  \\\n",
       "0                                     Wii Sports      Wii           2006.0   \n",
       "1                              Super Mario Bros.      NES           1985.0   \n",
       "2                                 Mario Kart Wii      Wii           2008.0   \n",
       "3                              Wii Sports Resort      Wii           2009.0   \n",
       "4                       Pokemon Red/Pokemon Blue       GB           1996.0   \n",
       "5                                         Tetris       GB           1989.0   \n",
       "6                          New Super Mario Bros.       DS           2006.0   \n",
       "7                                       Wii Play      Wii           2006.0   \n",
       "8                      New Super Mario Bros. Wii      Wii           2009.0   \n",
       "9                                      Duck Hunt      NES           1984.0   \n",
       "10                                    Nintendogs       DS           2005.0   \n",
       "11                                 Mario Kart DS       DS           2005.0   \n",
       "12                   Pokemon Gold/Pokemon Silver       GB           1999.0   \n",
       "13                                       Wii Fit      Wii           2007.0   \n",
       "14                            Kinect Adventures!     X360           2010.0   \n",
       "15                                  Wii Fit Plus      Wii           2009.0   \n",
       "16                            Grand Theft Auto V      PS3           2013.0   \n",
       "17                 Grand Theft Auto: San Andreas      PS2           2004.0   \n",
       "18                             Super Mario World     SNES           1990.0   \n",
       "19  Brain Age: Train Your Brain in Minutes a Day       DS           2005.0   \n",
       "\n",
       "           genre  na_sales  eu_sales  jp_sales  other_sales  critic_score  \\\n",
       "0         Sports     41.36     28.96      3.77         8.45          76.0   \n",
       "1       Platform     29.08      3.58      6.81         0.77           NaN   \n",
       "2         Racing     15.68     12.76      3.79         3.29          82.0   \n",
       "3         Sports     15.61     10.93      3.28         2.95          80.0   \n",
       "4   Role-Playing     11.27      8.89     10.22         1.00           NaN   \n",
       "5         Puzzle     23.20      2.26      4.22         0.58           NaN   \n",
       "6       Platform     11.28      9.14      6.50         2.88          89.0   \n",
       "7           Misc     13.96      9.18      2.93         2.84          58.0   \n",
       "8       Platform     14.44      6.94      4.70         2.24          87.0   \n",
       "9        Shooter     26.93      0.63      0.28         0.47           NaN   \n",
       "10    Simulation      9.05     10.95      1.93         2.74           NaN   \n",
       "11        Racing      9.71      7.47      4.13         1.90          91.0   \n",
       "12  Role-Playing      9.00      6.18      7.20         0.71           NaN   \n",
       "13        Sports      8.92      8.03      3.60         2.15          80.0   \n",
       "14          Misc     15.00      4.89      0.24         1.69          61.0   \n",
       "15        Sports      9.01      8.49      2.53         1.77          80.0   \n",
       "16        Action      7.02      9.09      0.98         3.96          97.0   \n",
       "17        Action      9.43      0.40      0.41        10.57          95.0   \n",
       "18      Platform     12.78      3.75      3.54         0.55           NaN   \n",
       "19          Misc      4.74      9.20      4.16         2.04          77.0   \n",
       "\n",
       "   user_score rating  \n",
       "0           8      E  \n",
       "1         NaN    NaN  \n",
       "2         8.3      E  \n",
       "3           8      E  \n",
       "4         NaN    NaN  \n",
       "5         NaN    NaN  \n",
       "6         8.5      E  \n",
       "7         6.6      E  \n",
       "8         8.4      E  \n",
       "9         NaN    NaN  \n",
       "10        NaN    NaN  \n",
       "11        8.6      E  \n",
       "12        NaN    NaN  \n",
       "13        7.7      E  \n",
       "14        6.3      E  \n",
       "15        7.4      E  \n",
       "16        8.2      M  \n",
       "17          9      M  \n",
       "18        NaN    NaN  \n",
       "19        7.9      E  "
      ]
     },
     "execution_count": 71,
     "metadata": {},
     "output_type": "execute_result"
    }
   ],
   "source": [
    "data.head(20)"
   ]
  },
  {
   "cell_type": "markdown",
   "metadata": {},
   "source": [
    "Посмотрим наличие дубликатов"
   ]
  },
  {
   "cell_type": "code",
   "execution_count": 72,
   "metadata": {},
   "outputs": [
    {
     "data": {
      "text/plain": [
       "0"
      ]
     },
     "execution_count": 72,
     "metadata": {},
     "output_type": "execute_result"
    }
   ],
   "source": [
    "data.duplicated().sum()"
   ]
  },
  {
   "cell_type": "markdown",
   "metadata": {},
   "source": [
    "Явных дубликатов не выявлено."
   ]
  },
  {
   "cell_type": "code",
   "execution_count": 73,
   "metadata": {},
   "outputs": [
    {
     "name": "stdout",
     "output_type": "stream",
     "text": [
      "<class 'pandas.core.frame.DataFrame'>\n",
      "RangeIndex: 16715 entries, 0 to 16714\n",
      "Data columns (total 11 columns):\n",
      " #   Column           Non-Null Count  Dtype  \n",
      "---  ------           --------------  -----  \n",
      " 0   name             16713 non-null  object \n",
      " 1   platform         16715 non-null  object \n",
      " 2   year_of_release  16446 non-null  float64\n",
      " 3   genre            16713 non-null  object \n",
      " 4   na_sales         16715 non-null  float64\n",
      " 5   eu_sales         16715 non-null  float64\n",
      " 6   jp_sales         16715 non-null  float64\n",
      " 7   other_sales      16715 non-null  float64\n",
      " 8   critic_score     8137 non-null   float64\n",
      " 9   user_score       10014 non-null  object \n",
      " 10  rating           9949 non-null   object \n",
      "dtypes: float64(6), object(5)\n",
      "memory usage: 1.4+ MB\n"
     ]
    }
   ],
   "source": [
    "data.info()"
   ]
  },
  {
   "cell_type": "markdown",
   "metadata": {},
   "source": [
    "Так как мы видим, что в столбце user_score числа, а формат у него object. Посмотрим какие уникальные данные в этом столбце есть."
   ]
  },
  {
   "cell_type": "code",
   "execution_count": 74,
   "metadata": {},
   "outputs": [
    {
     "data": {
      "text/plain": [
       "array(['8', nan, '8.3', '8.5', '6.6', '8.4', '8.6', '7.7', '6.3', '7.4',\n",
       "       '8.2', '9', '7.9', '8.1', '8.7', '7.1', '3.4', '5.3', '4.8', '3.2',\n",
       "       '8.9', '6.4', '7.8', '7.5', '2.6', '7.2', '9.2', '7', '7.3', '4.3',\n",
       "       '7.6', '5.7', '5', '9.1', '6.5', 'tbd', '8.8', '6.9', '9.4', '6.8',\n",
       "       '6.1', '6.7', '5.4', '4', '4.9', '4.5', '9.3', '6.2', '4.2', '6',\n",
       "       '3.7', '4.1', '5.8', '5.6', '5.5', '4.4', '4.6', '5.9', '3.9',\n",
       "       '3.1', '2.9', '5.2', '3.3', '4.7', '5.1', '3.5', '2.5', '1.9', '3',\n",
       "       '2.7', '2.2', '2', '9.5', '2.1', '3.6', '2.8', '1.8', '3.8', '0',\n",
       "       '1.6', '9.6', '2.4', '1.7', '1.1', '0.3', '1.5', '0.7', '1.2',\n",
       "       '2.3', '0.5', '1.3', '0.2', '0.6', '1.4', '0.9', '1', '9.7'],\n",
       "      dtype=object)"
      ]
     },
     "execution_count": 74,
     "metadata": {},
     "output_type": "execute_result"
    }
   ],
   "source": [
    "data['user_score'].unique()"
   ]
  },
  {
   "cell_type": "markdown",
   "metadata": {},
   "source": [
    "В данном столбце мы увидели значени tbd. Согласно интернету это абривиатура используется, если какая-то информация еще не определена или решение по вопросу не принято. Тогда это равносильно значению NAN. Можно произвести замену и поменять формат данного столбца на float.\n",
    "Так же можно изменить тип данных в столбцах year_of_release для удобства работы в дальнейшем."
   ]
  },
  {
   "cell_type": "markdown",
   "metadata": {},
   "source": [
    "Перед преобразованием рассмотрим пропуски в таблицах "
   ]
  },
  {
   "cell_type": "code",
   "execution_count": 75,
   "metadata": {},
   "outputs": [
    {
     "data": {
      "text/plain": [
       "name                  2\n",
       "platform              0\n",
       "year_of_release     269\n",
       "genre                 2\n",
       "na_sales              0\n",
       "eu_sales              0\n",
       "jp_sales              0\n",
       "other_sales           0\n",
       "critic_score       8578\n",
       "user_score         6701\n",
       "rating             6766\n",
       "dtype: int64"
      ]
     },
     "execution_count": 75,
     "metadata": {},
     "output_type": "execute_result"
    }
   ],
   "source": [
    "data.isna().sum()"
   ]
  },
  {
   "cell_type": "markdown",
   "metadata": {},
   "source": [
    "Из данных мы видимо что самое большое количество пропусков в столбцах - rating (6766 пропусков), user_score (6701 пропусков) и critic_score (8578 пропусков). Т.к. пропусков много мы их оставим т.к. их изменение или удаление может повлиять на корректность итоговой оценки исследования. С пропусками в столбце year_of_release (269) - можем заменить на 0. Так же заменим пропуск в столбце rating на Unknown для дальнейшей обработки этого столбца. А в столбцах name и genre по 2 пропуска. Их удалим."
   ]
  },
  {
   "cell_type": "code",
   "execution_count": 131,
   "metadata": {},
   "outputs": [],
   "source": [
    "data = data.dropna(subset=['name']).reset_index(drop=True)\n",
    "data = data.dropna(subset=['genre']).reset_index(drop=True)\n",
    "data['year_of_release'] = data['year_of_release'].fillna(0)\n",
    "data['rating'] = data['rating'].fillna('Unknown')"
   ]
  },
  {
   "cell_type": "code",
   "execution_count": 77,
   "metadata": {},
   "outputs": [
    {
     "data": {
      "text/plain": [
       "name                  0\n",
       "platform              0\n",
       "year_of_release       0\n",
       "genre                 0\n",
       "na_sales              0\n",
       "eu_sales              0\n",
       "jp_sales              0\n",
       "other_sales           0\n",
       "critic_score       8576\n",
       "user_score         6699\n",
       "rating             6764\n",
       "dtype: int64"
      ]
     },
     "execution_count": 77,
     "metadata": {},
     "output_type": "execute_result"
    }
   ],
   "source": [
    "data.isna().sum()"
   ]
  },
  {
   "cell_type": "markdown",
   "metadata": {},
   "source": [
    "Теперь когда пропуски обработаны, перейдем к преобразованию типа данных:"
   ]
  },
  {
   "cell_type": "code",
   "execution_count": 78,
   "metadata": {},
   "outputs": [],
   "source": [
    "import numpy as np\n",
    "data['year_of_release'] = data['year_of_release'].astype('int')\n",
    "data['user_score'] = data['user_score'].replace('tbd', np.nan, regex=True)\n",
    "data['user_score'] = data['user_score'].astype('float')"
   ]
  },
  {
   "cell_type": "code",
   "execution_count": 79,
   "metadata": {},
   "outputs": [
    {
     "name": "stdout",
     "output_type": "stream",
     "text": [
      "<class 'pandas.core.frame.DataFrame'>\n",
      "RangeIndex: 16713 entries, 0 to 16712\n",
      "Data columns (total 11 columns):\n",
      " #   Column           Non-Null Count  Dtype  \n",
      "---  ------           --------------  -----  \n",
      " 0   name             16713 non-null  object \n",
      " 1   platform         16713 non-null  object \n",
      " 2   year_of_release  16713 non-null  int64  \n",
      " 3   genre            16713 non-null  object \n",
      " 4   na_sales         16713 non-null  float64\n",
      " 5   eu_sales         16713 non-null  float64\n",
      " 6   jp_sales         16713 non-null  float64\n",
      " 7   other_sales      16713 non-null  float64\n",
      " 8   critic_score     8137 non-null   float64\n",
      " 9   user_score       7590 non-null   float64\n",
      " 10  rating           9949 non-null   object \n",
      "dtypes: float64(6), int64(1), object(4)\n",
      "memory usage: 1.4+ MB\n"
     ]
    }
   ],
   "source": [
    "data.info()"
   ]
  },
  {
   "cell_type": "markdown",
   "metadata": {},
   "source": [
    "Теперь посчитаем суммарные продажи во всех регионах и запишим их в отдельный столбец."
   ]
  },
  {
   "cell_type": "code",
   "execution_count": 80,
   "metadata": {},
   "outputs": [],
   "source": [
    "data['total_sales'] = data[['na_sales','eu_sales','jp_sales', 'other_sales']].sum(axis = 1)"
   ]
  },
  {
   "cell_type": "markdown",
   "metadata": {},
   "source": [
    "Теперь рассмотрим сколько игр выпускалось в разные годы."
   ]
  },
  {
   "cell_type": "code",
   "execution_count": 81,
   "metadata": {},
   "outputs": [
    {
     "data": {
      "text/plain": [
       "count    16713.000000\n",
       "mean      1974.191348\n",
       "std        252.574959\n",
       "min          0.000000\n",
       "25%       2003.000000\n",
       "50%       2007.000000\n",
       "75%       2010.000000\n",
       "max       2016.000000\n",
       "Name: year_of_release, dtype: float64"
      ]
     },
     "execution_count": 81,
     "metadata": {},
     "output_type": "execute_result"
    }
   ],
   "source": [
    "data['year_of_release'].describe()"
   ]
  },
  {
   "cell_type": "markdown",
   "metadata": {},
   "source": [
    "В нашей таблице предоставлены данные с 1974 по 2016 год. Построим график."
   ]
  },
  {
   "cell_type": "code",
   "execution_count": 82,
   "metadata": {},
   "outputs": [
    {
     "data": {
      "text/plain": [
       "<AxesSubplot:>"
      ]
     },
     "execution_count": 82,
     "metadata": {},
     "output_type": "execute_result"
    },
    {
     "data": {
      "image/png": "[encoded data removed]",
      "text/plain": [
       "<Figure size 432x288 with 1 Axes>"
      ]
     },
     "metadata": {
      "needs_background": "light"
     },
     "output_type": "display_data"
    }
   ],
   "source": [
    "data['year_of_release'].hist(bins = 30, range=(1973, 2017))"
   ]
  },
  {
   "cell_type": "markdown",
   "metadata": {},
   "source": [
    "Из графика мы видим, что больше всего игр выпускалась после 2000 годов. Попробуем изменить период и рассмотреть более подробно."
   ]
  },
  {
   "cell_type": "code",
   "execution_count": 83,
   "metadata": {},
   "outputs": [
    {
     "data": {
      "text/plain": [
       "<AxesSubplot:>"
      ]
     },
     "execution_count": 83,
     "metadata": {},
     "output_type": "execute_result"
    },
    {
     "data": {
      "image/png": "[encoded data removed]",
      "text/plain": [
       "<Figure size 432x288 with 1 Axes>"
      ]
     },
     "metadata": {
      "needs_background": "light"
     },
     "output_type": "display_data"
    }
   ],
   "source": [
    "data['year_of_release'].hist(bins = 10, range=(2000, 2015))"
   ]
  },
  {
   "cell_type": "markdown",
   "metadata": {},
   "source": [
    "Согласно графику мы можем сказать, что самые пиковые года были с 2003 года по 2011 год. В эти года выпускалась больше всего игр."
   ]
  },
  {
   "cell_type": "markdown",
   "metadata": {},
   "source": [
    "Рассмотрим, как менялись продажи по платформам. Выберем платформы с наибольшими суммарными продажами и построим распределение по годам. А так же ответим на вопрос - за какой характерный срок появляются новые и исчезают старые платформы?"
   ]
  },
  {
   "cell_type": "code",
   "execution_count": 84,
   "metadata": {},
   "outputs": [
    {
     "data": {
      "text/html": [
       "<div>\n",
       "<style scoped>\n",
       "    .dataframe tbody tr th:only-of-type {\n",
       "        vertical-align: middle;\n",
       "    }\n",
       "\n",
       "    .dataframe tbody tr th {\n",
       "        vertical-align: top;\n",
       "    }\n",
       "\n",
       "    .dataframe thead th {\n",
       "        text-align: right;\n",
       "    }\n",
       "</style>\n",
       "<table border=\"1\" class=\"dataframe\">\n",
       "  <thead>\n",
       "    <tr style=\"text-align: right;\">\n",
       "      <th></th>\n",
       "      <th>total_sales</th>\n",
       "    </tr>\n",
       "    <tr>\n",
       "      <th>platform</th>\n",
       "      <th></th>\n",
       "    </tr>\n",
       "  </thead>\n",
       "  <tbody>\n",
       "    <tr>\n",
       "      <th>PS2</th>\n",
       "      <td>1255.77</td>\n",
       "    </tr>\n",
       "    <tr>\n",
       "      <th>X360</th>\n",
       "      <td>971.42</td>\n",
       "    </tr>\n",
       "    <tr>\n",
       "      <th>PS3</th>\n",
       "      <td>939.65</td>\n",
       "    </tr>\n",
       "    <tr>\n",
       "      <th>Wii</th>\n",
       "      <td>907.51</td>\n",
       "    </tr>\n",
       "    <tr>\n",
       "      <th>DS</th>\n",
       "      <td>806.12</td>\n",
       "    </tr>\n",
       "    <tr>\n",
       "      <th>PS</th>\n",
       "      <td>730.86</td>\n",
       "    </tr>\n",
       "    <tr>\n",
       "      <th>GBA</th>\n",
       "      <td>317.85</td>\n",
       "    </tr>\n",
       "    <tr>\n",
       "      <th>PS4</th>\n",
       "      <td>314.14</td>\n",
       "    </tr>\n",
       "    <tr>\n",
       "      <th>PSP</th>\n",
       "      <td>294.05</td>\n",
       "    </tr>\n",
       "    <tr>\n",
       "      <th>PC</th>\n",
       "      <td>259.52</td>\n",
       "    </tr>\n",
       "    <tr>\n",
       "      <th>3DS</th>\n",
       "      <td>259.00</td>\n",
       "    </tr>\n",
       "    <tr>\n",
       "      <th>XB</th>\n",
       "      <td>257.74</td>\n",
       "    </tr>\n",
       "    <tr>\n",
       "      <th>GB</th>\n",
       "      <td>255.46</td>\n",
       "    </tr>\n",
       "    <tr>\n",
       "      <th>NES</th>\n",
       "      <td>251.05</td>\n",
       "    </tr>\n",
       "    <tr>\n",
       "      <th>N64</th>\n",
       "      <td>218.68</td>\n",
       "    </tr>\n",
       "    <tr>\n",
       "      <th>SNES</th>\n",
       "      <td>200.04</td>\n",
       "    </tr>\n",
       "    <tr>\n",
       "      <th>GC</th>\n",
       "      <td>198.93</td>\n",
       "    </tr>\n",
       "    <tr>\n",
       "      <th>XOne</th>\n",
       "      <td>159.32</td>\n",
       "    </tr>\n",
       "    <tr>\n",
       "      <th>2600</th>\n",
       "      <td>96.98</td>\n",
       "    </tr>\n",
       "    <tr>\n",
       "      <th>WiiU</th>\n",
       "      <td>82.19</td>\n",
       "    </tr>\n",
       "    <tr>\n",
       "      <th>PSV</th>\n",
       "      <td>54.07</td>\n",
       "    </tr>\n",
       "    <tr>\n",
       "      <th>SAT</th>\n",
       "      <td>33.59</td>\n",
       "    </tr>\n",
       "    <tr>\n",
       "      <th>GEN</th>\n",
       "      <td>28.35</td>\n",
       "    </tr>\n",
       "    <tr>\n",
       "      <th>DC</th>\n",
       "      <td>15.95</td>\n",
       "    </tr>\n",
       "    <tr>\n",
       "      <th>SCD</th>\n",
       "      <td>1.86</td>\n",
       "    </tr>\n",
       "    <tr>\n",
       "      <th>NG</th>\n",
       "      <td>1.44</td>\n",
       "    </tr>\n",
       "    <tr>\n",
       "      <th>WS</th>\n",
       "      <td>1.42</td>\n",
       "    </tr>\n",
       "    <tr>\n",
       "      <th>TG16</th>\n",
       "      <td>0.16</td>\n",
       "    </tr>\n",
       "    <tr>\n",
       "      <th>3DO</th>\n",
       "      <td>0.10</td>\n",
       "    </tr>\n",
       "    <tr>\n",
       "      <th>GG</th>\n",
       "      <td>0.04</td>\n",
       "    </tr>\n",
       "    <tr>\n",
       "      <th>PCFX</th>\n",
       "      <td>0.03</td>\n",
       "    </tr>\n",
       "  </tbody>\n",
       "</table>\n",
       "</div>"
      ],
      "text/plain": [
       "          total_sales\n",
       "platform             \n",
       "PS2           1255.77\n",
       "X360           971.42\n",
       "PS3            939.65\n",
       "Wii            907.51\n",
       "DS             806.12\n",
       "PS             730.86\n",
       "GBA            317.85\n",
       "PS4            314.14\n",
       "PSP            294.05\n",
       "PC             259.52\n",
       "3DS            259.00\n",
       "XB             257.74\n",
       "GB             255.46\n",
       "NES            251.05\n",
       "N64            218.68\n",
       "SNES           200.04\n",
       "GC             198.93\n",
       "XOne           159.32\n",
       "2600            96.98\n",
       "WiiU            82.19\n",
       "PSV             54.07\n",
       "SAT             33.59\n",
       "GEN             28.35\n",
       "DC              15.95\n",
       "SCD              1.86\n",
       "NG               1.44\n",
       "WS               1.42\n",
       "TG16             0.16\n",
       "3DO              0.10\n",
       "GG               0.04\n",
       "PCFX             0.03"
      ]
     },
     "execution_count": 84,
     "metadata": {},
     "output_type": "execute_result"
    }
   ],
   "source": [
    "data.pivot_table(index='platform', values='total_sales', aggfunc='sum').sort_values('total_sales', ascending=False)"
   ]
  },
  {
   "cell_type": "markdown",
   "metadata": {},
   "source": [
    "ТОП-5 платформ PS2 (1255.77), X360 (971.42), PS3 (939.65), Wii (907.51), DS\t(806.12). Построим распределние по годам."
   ]
  },
  {
   "cell_type": "code",
   "execution_count": 85,
   "metadata": {},
   "outputs": [
    {
     "data": {
      "text/plain": [
       "<AxesSubplot:xlabel='platform,year_of_release'>"
      ]
     },
     "execution_count": 85,
     "metadata": {},
     "output_type": "execute_result"
    },
    {
     "data": {
      "image/png": "[encoded data removed]",
      "text/plain": [
       "<Figure size 2160x1440 with 1 Axes>"
      ]
     },
     "metadata": {
      "needs_background": "light"
     },
     "output_type": "display_data"
    }
   ],
   "source": [
    "data.pivot_table(index=['platform', 'year_of_release'], values='total_sales', aggfunc='sum').query('platform in [\"PS2\", \"X360\", \"PS3\", \"Wii\", \"DS\"]').plot(y='total_sales', kind='bar', figsize=(30,20), grid=True)"
   ]
  },
  {
   "cell_type": "markdown",
   "metadata": {},
   "source": [
    "Судя по графику можно сказать что в среднем платформы устаревают через 10 лет. "
   ]
  },
  {
   "cell_type": "markdown",
   "metadata": {},
   "source": [
    "Попробуем сделать прогноз на 2017 год. Для этого возьмем более актуальный период с 2006 - 2016 гг. Т.к срок жизни топ-платформ был как раз за этот период."
   ]
  },
  {
   "cell_type": "code",
   "execution_count": 86,
   "metadata": {},
   "outputs": [],
   "source": [
    "actual_period = data[data['year_of_release'] >= 2013].reset_index(drop=True)"
   ]
  },
  {
   "cell_type": "markdown",
   "metadata": {},
   "source": [
    "Рассмотрим какие платформы были за этот период."
   ]
  },
  {
   "cell_type": "code",
   "execution_count": 87,
   "metadata": {},
   "outputs": [
    {
     "data": {
      "text/plain": [
       "array(['PS3', 'X360', 'PS4', '3DS', 'XOne', 'WiiU', 'Wii', 'PC', 'PSV',\n",
       "       'DS', 'PSP'], dtype=object)"
      ]
     },
     "execution_count": 87,
     "metadata": {},
     "output_type": "execute_result"
    }
   ],
   "source": [
    "actual_period['platform'].unique()"
   ]
  },
  {
   "cell_type": "markdown",
   "metadata": {},
   "source": [
    "Составим список самых продаваемых платформ за этот период."
   ]
  },
  {
   "cell_type": "code",
   "execution_count": 88,
   "metadata": {},
   "outputs": [
    {
     "data": {
      "text/html": [
       "<div>\n",
       "<style scoped>\n",
       "    .dataframe tbody tr th:only-of-type {\n",
       "        vertical-align: middle;\n",
       "    }\n",
       "\n",
       "    .dataframe tbody tr th {\n",
       "        vertical-align: top;\n",
       "    }\n",
       "\n",
       "    .dataframe thead th {\n",
       "        text-align: right;\n",
       "    }\n",
       "</style>\n",
       "<table border=\"1\" class=\"dataframe\">\n",
       "  <thead>\n",
       "    <tr style=\"text-align: right;\">\n",
       "      <th></th>\n",
       "      <th>total_sales</th>\n",
       "    </tr>\n",
       "    <tr>\n",
       "      <th>platform</th>\n",
       "      <th></th>\n",
       "    </tr>\n",
       "  </thead>\n",
       "  <tbody>\n",
       "    <tr>\n",
       "      <th>PS4</th>\n",
       "      <td>314.14</td>\n",
       "    </tr>\n",
       "    <tr>\n",
       "      <th>PS3</th>\n",
       "      <td>181.43</td>\n",
       "    </tr>\n",
       "    <tr>\n",
       "      <th>XOne</th>\n",
       "      <td>159.32</td>\n",
       "    </tr>\n",
       "    <tr>\n",
       "      <th>3DS</th>\n",
       "      <td>143.25</td>\n",
       "    </tr>\n",
       "    <tr>\n",
       "      <th>X360</th>\n",
       "      <td>136.80</td>\n",
       "    </tr>\n",
       "    <tr>\n",
       "      <th>WiiU</th>\n",
       "      <td>64.63</td>\n",
       "    </tr>\n",
       "    <tr>\n",
       "      <th>PC</th>\n",
       "      <td>39.43</td>\n",
       "    </tr>\n",
       "    <tr>\n",
       "      <th>PSV</th>\n",
       "      <td>32.99</td>\n",
       "    </tr>\n",
       "    <tr>\n",
       "      <th>Wii</th>\n",
       "      <td>13.66</td>\n",
       "    </tr>\n",
       "    <tr>\n",
       "      <th>PSP</th>\n",
       "      <td>3.50</td>\n",
       "    </tr>\n",
       "    <tr>\n",
       "      <th>DS</th>\n",
       "      <td>1.54</td>\n",
       "    </tr>\n",
       "  </tbody>\n",
       "</table>\n",
       "</div>"
      ],
      "text/plain": [
       "          total_sales\n",
       "platform             \n",
       "PS4            314.14\n",
       "PS3            181.43\n",
       "XOne           159.32\n",
       "3DS            143.25\n",
       "X360           136.80\n",
       "WiiU            64.63\n",
       "PC              39.43\n",
       "PSV             32.99\n",
       "Wii             13.66\n",
       "PSP              3.50\n",
       "DS               1.54"
      ]
     },
     "execution_count": 88,
     "metadata": {},
     "output_type": "execute_result"
    }
   ],
   "source": [
    "actual_period.pivot_table(index='platform', values='total_sales', aggfunc='sum').sort_values('total_sales', ascending=False)"
   ]
  },
  {
   "cell_type": "markdown",
   "metadata": {},
   "source": [
    "Возьмем пятерку лучших платформ для распределения - PS4, PS3, XOne, 3DS, X360."
   ]
  },
  {
   "cell_type": "code",
   "execution_count": 89,
   "metadata": {},
   "outputs": [
    {
     "data": {
      "text/plain": [
       "<AxesSubplot:xlabel='year_of_release'>"
      ]
     },
     "execution_count": 89,
     "metadata": {},
     "output_type": "execute_result"
    },
    {
     "data": {
      "image/png": "[encoded data removed]",
      "text/plain": [
       "<Figure size 432x288 with 1 Axes>"
      ]
     },
     "metadata": {
      "needs_background": "light"
     },
     "output_type": "display_data"
    }
   ],
   "source": [
    "actual_period.query('platform == \"PS4\"').pivot_table(index='year_of_release', values='total_sales', aggfunc='sum').plot(y='total_sales', kind='bar', grid=True)"
   ]
  },
  {
   "cell_type": "code",
   "execution_count": 90,
   "metadata": {},
   "outputs": [
    {
     "data": {
      "text/plain": [
       "<AxesSubplot:xlabel='year_of_release'>"
      ]
     },
     "execution_count": 90,
     "metadata": {},
     "output_type": "execute_result"
    },
    {
     "data": {
      "image/png": "[encoded data removed]",
      "text/plain": [
       "<Figure size 432x288 with 1 Axes>"
      ]
     },
     "metadata": {
      "needs_background": "light"
     },
     "output_type": "display_data"
    }
   ],
   "source": [
    "actual_period.query('platform == \"PS3\"').pivot_table(index='year_of_release', values='total_sales', aggfunc='sum').plot(y='total_sales', kind='bar', grid=True)"
   ]
  },
  {
   "cell_type": "code",
   "execution_count": 91,
   "metadata": {},
   "outputs": [
    {
     "data": {
      "text/plain": [
       "<AxesSubplot:xlabel='year_of_release'>"
      ]
     },
     "execution_count": 91,
     "metadata": {},
     "output_type": "execute_result"
    },
    {
     "data": {
      "image/png": "[encoded data removed]",
      "text/plain": [
       "<Figure size 432x288 with 1 Axes>"
      ]
     },
     "metadata": {
      "needs_background": "light"
     },
     "output_type": "display_data"
    }
   ],
   "source": [
    "actual_period.query('platform == \"PS4\"').pivot_table(index='year_of_release', values='total_sales', aggfunc='sum').plot(y='total_sales', kind='bar', grid=True)"
   ]
  },
  {
   "cell_type": "code",
   "execution_count": 92,
   "metadata": {},
   "outputs": [
    {
     "data": {
      "text/plain": [
       "<AxesSubplot:xlabel='year_of_release'>"
      ]
     },
     "execution_count": 92,
     "metadata": {},
     "output_type": "execute_result"
    },
    {
     "data": {
      "image/png": "[encoded data removed]",
      "text/plain": [
       "<Figure size 432x288 with 1 Axes>"
      ]
     },
     "metadata": {
      "needs_background": "light"
     },
     "output_type": "display_data"
    }
   ],
   "source": [
    "actual_period.query('platform == \"XOne\"').pivot_table(index='year_of_release', values='total_sales', aggfunc='sum').plot(y='total_sales', kind='bar', grid=True)"
   ]
  },
  {
   "cell_type": "code",
   "execution_count": 93,
   "metadata": {},
   "outputs": [
    {
     "data": {
      "text/plain": [
       "<AxesSubplot:xlabel='year_of_release'>"
      ]
     },
     "execution_count": 93,
     "metadata": {},
     "output_type": "execute_result"
    },
    {
     "data": {
      "image/png": "[encoded data removed]",
      "text/plain": [
       "<Figure size 432x288 with 1 Axes>"
      ]
     },
     "metadata": {
      "needs_background": "light"
     },
     "output_type": "display_data"
    }
   ],
   "source": [
    "actual_period.query('platform == \"3DS\"').pivot_table(index='year_of_release', values='total_sales', aggfunc='sum').plot(y='total_sales', kind='bar', grid=True)"
   ]
  },
  {
   "cell_type": "code",
   "execution_count": 94,
   "metadata": {},
   "outputs": [
    {
     "data": {
      "text/plain": [
       "<AxesSubplot:xlabel='year_of_release'>"
      ]
     },
     "execution_count": 94,
     "metadata": {},
     "output_type": "execute_result"
    },
    {
     "data": {
      "image/png": "[encoded data removed]",
      "text/plain": [
       "<Figure size 432x288 with 1 Axes>"
      ]
     },
     "metadata": {
      "needs_background": "light"
     },
     "output_type": "display_data"
    }
   ],
   "source": [
    "actual_period.query('platform == \"X360\"').pivot_table(index='year_of_release', values='total_sales', aggfunc='sum').plot(y='total_sales', kind='bar', grid=True)"
   ]
  },
  {
   "cell_type": "markdown",
   "metadata": {},
   "source": [
    "Исходя из графика можно сделать вывод, что в 2017 году еще актуальны будут платформы PS4, XOne, 3DS. Остальные платформы уже уходят на нет."
   ]
  },
  {
   "cell_type": "markdown",
   "metadata": {},
   "source": [
    "Теперь построим график «ящик с усами» по глобальным продажам игр в разбивке по платформам."
   ]
  },
  {
   "cell_type": "code",
   "execution_count": 95,
   "metadata": {},
   "outputs": [
    {
     "data": {
      "text/plain": [
       "<AxesSubplot:>"
      ]
     },
     "execution_count": 95,
     "metadata": {},
     "output_type": "execute_result"
    },
    {
     "data": {
      "image/png": "[encoded data removed]",
      "text/plain": [
       "<Figure size 432x288 with 1 Axes>"
      ]
     },
     "metadata": {
      "needs_background": "light"
     },
     "output_type": "display_data"
    }
   ],
   "source": [
    "import seaborn as sns\n",
    "actual_period.pivot_table(index = 'name', columns = 'platform', values = 'total_sales', aggfunc = 'sum').plot(kind='box', ylim=(0,2))"
   ]
  },
  {
   "cell_type": "markdown",
   "metadata": {},
   "source": [
    "Из графика мы видим, что значения продаж у PS3, PS4, Wii, WiiU, X360 и XOne намного больше медианы, что выделяет эти платформы как более популярные."
   ]
  },
  {
   "cell_type": "markdown",
   "metadata": {},
   "source": [
    "Рассмотрим, как влияют на продажи внутри одной популярной платформы отзывы пользователей и критиков. Построим диаграмму рассеяния и посчитаем корреляцию между отзывами и продажами. Для работы возьмем одну из популярных платформ PS4."
   ]
  },
  {
   "cell_type": "code",
   "execution_count": 96,
   "metadata": {},
   "outputs": [
    {
     "data": {
      "text/plain": [
       "-0.031957110204556376"
      ]
     },
     "execution_count": 96,
     "metadata": {},
     "output_type": "execute_result"
    },
    {
     "data": {
      "image/png": "[encoded data removed]",
      "text/plain": [
       "<Figure size 432x288 with 1 Axes>"
      ]
     },
     "metadata": {
      "needs_background": "light"
     },
     "output_type": "display_data"
    }
   ],
   "source": [
    "actual_period[actual_period['platform'] == 'PS4'].plot(x='total_sales', y='user_score', kind='scatter')\n",
    "actual_period[actual_period['platform'] == 'PS4']['total_sales'].corr(actual_period[actual_period['platform'] == 'PS4']['user_score'])"
   ]
  },
  {
   "cell_type": "code",
   "execution_count": 97,
   "metadata": {},
   "outputs": [
    {
     "data": {
      "text/plain": [
       "0.406567902061781"
      ]
     },
     "execution_count": 97,
     "metadata": {},
     "output_type": "execute_result"
    },
    {
     "data": {
      "image/png": "[encoded data removed]",
      "text/plain": [
       "<Figure size 432x288 with 1 Axes>"
      ]
     },
     "metadata": {
      "needs_background": "light"
     },
     "output_type": "display_data"
    }
   ],
   "source": [
    "actual_period[actual_period['platform'] == 'PS4'].plot(x='total_sales', y='critic_score', kind='scatter')\n",
    "actual_period[actual_period['platform'] == 'PS4']['total_sales'].corr(actual_period[actual_period['platform'] == 'PS4']['critic_score'])"
   ]
  },
  {
   "cell_type": "markdown",
   "metadata": {},
   "source": [
    "Исходя из графика можно сделать вывод, что оценки критиков и пользователей почти одианоко влияют на продажи. Но корреляция показала, что оценка критиков имеет небольшое влияение, чем оценки пользователей."
   ]
  },
  {
   "cell_type": "code",
   "execution_count": 98,
   "metadata": {},
   "outputs": [
    {
     "data": {
      "text/plain": [
       "-0.0011216242093378534"
      ]
     },
     "execution_count": 98,
     "metadata": {},
     "output_type": "execute_result"
    },
    {
     "data": {
      "image/png": "[encoded data removed]",
      "text/plain": [
       "<Figure size 432x288 with 1 Axes>"
      ]
     },
     "metadata": {
      "needs_background": "light"
     },
     "output_type": "display_data"
    }
   ],
   "source": [
    "actual_period[actual_period['platform'] != 'PS4'].plot(x='total_sales', y='user_score', kind='scatter')\n",
    "actual_period[actual_period['platform'] != 'PS4']['total_sales'].corr(actual_period[actual_period['platform'] != 'PS4']['user_score'])"
   ]
  },
  {
   "cell_type": "code",
   "execution_count": 99,
   "metadata": {
    "scrolled": true
   },
   "outputs": [
    {
     "data": {
      "text/plain": [
       "0.2812510848217566"
      ]
     },
     "execution_count": 99,
     "metadata": {},
     "output_type": "execute_result"
    },
    {
     "data": {
      "image/png": "[encoded data removed]",
      "text/plain": [
       "<Figure size 432x288 with 1 Axes>"
      ]
     },
     "metadata": {
      "needs_background": "light"
     },
     "output_type": "display_data"
    }
   ],
   "source": [
    "actual_period[actual_period['platform'] != 'PS4'].plot(x='total_sales', y='critic_score', kind='scatter')\n",
    "actual_period[actual_period['platform'] != 'PS4']['total_sales'].corr(actual_period[actual_period['platform'] != 'PS4']['critic_score'])"
   ]
  },
  {
   "cell_type": "markdown",
   "metadata": {},
   "source": [
    "По другим платформам ситуация не изменилась. Так же небольшое влияение имеет оценка критиков на продажи."
   ]
  },
  {
   "cell_type": "markdown",
   "metadata": {},
   "source": [
    "Рассмотри общее распределение игр по жанрам."
   ]
  },
  {
   "cell_type": "code",
   "execution_count": 100,
   "metadata": {},
   "outputs": [
    {
     "data": {
      "text/plain": [
       "Action          766\n",
       "Role-Playing    292\n",
       "Adventure       245\n",
       "Sports          214\n",
       "Shooter         187\n",
       "Misc            155\n",
       "Racing           85\n",
       "Fighting         80\n",
       "Platform         74\n",
       "Simulation       62\n",
       "Strategy         56\n",
       "Puzzle           17\n",
       "Name: genre, dtype: int64"
      ]
     },
     "execution_count": 100,
     "metadata": {},
     "output_type": "execute_result"
    }
   ],
   "source": [
    "actual_period['genre'].value_counts()"
   ]
  },
  {
   "cell_type": "markdown",
   "metadata": {},
   "source": [
    "Самые популярные жанры - Action, Role-Playing, Adventure, Sports, Shooter, Misc."
   ]
  },
  {
   "cell_type": "code",
   "execution_count": 101,
   "metadata": {},
   "outputs": [
    {
     "data": {
      "text/html": [
       "<div>\n",
       "<style scoped>\n",
       "    .dataframe tbody tr th:only-of-type {\n",
       "        vertical-align: middle;\n",
       "    }\n",
       "\n",
       "    .dataframe tbody tr th {\n",
       "        vertical-align: top;\n",
       "    }\n",
       "\n",
       "    .dataframe thead th {\n",
       "        text-align: right;\n",
       "    }\n",
       "</style>\n",
       "<table border=\"1\" class=\"dataframe\">\n",
       "  <thead>\n",
       "    <tr style=\"text-align: right;\">\n",
       "      <th></th>\n",
       "      <th>total_sales</th>\n",
       "    </tr>\n",
       "    <tr>\n",
       "      <th>genre</th>\n",
       "      <th></th>\n",
       "    </tr>\n",
       "  </thead>\n",
       "  <tbody>\n",
       "    <tr>\n",
       "      <th>Action</th>\n",
       "      <td>321.87</td>\n",
       "    </tr>\n",
       "    <tr>\n",
       "      <th>Shooter</th>\n",
       "      <td>232.98</td>\n",
       "    </tr>\n",
       "    <tr>\n",
       "      <th>Sports</th>\n",
       "      <td>150.65</td>\n",
       "    </tr>\n",
       "    <tr>\n",
       "      <th>Role-Playing</th>\n",
       "      <td>145.89</td>\n",
       "    </tr>\n",
       "    <tr>\n",
       "      <th>Misc</th>\n",
       "      <td>62.82</td>\n",
       "    </tr>\n",
       "    <tr>\n",
       "      <th>Platform</th>\n",
       "      <td>42.63</td>\n",
       "    </tr>\n",
       "    <tr>\n",
       "      <th>Racing</th>\n",
       "      <td>39.89</td>\n",
       "    </tr>\n",
       "    <tr>\n",
       "      <th>Fighting</th>\n",
       "      <td>35.31</td>\n",
       "    </tr>\n",
       "    <tr>\n",
       "      <th>Adventure</th>\n",
       "      <td>23.64</td>\n",
       "    </tr>\n",
       "    <tr>\n",
       "      <th>Simulation</th>\n",
       "      <td>21.76</td>\n",
       "    </tr>\n",
       "    <tr>\n",
       "      <th>Strategy</th>\n",
       "      <td>10.08</td>\n",
       "    </tr>\n",
       "    <tr>\n",
       "      <th>Puzzle</th>\n",
       "      <td>3.17</td>\n",
       "    </tr>\n",
       "  </tbody>\n",
       "</table>\n",
       "</div>"
      ],
      "text/plain": [
       "              total_sales\n",
       "genre                    \n",
       "Action             321.87\n",
       "Shooter            232.98\n",
       "Sports             150.65\n",
       "Role-Playing       145.89\n",
       "Misc                62.82\n",
       "Platform            42.63\n",
       "Racing              39.89\n",
       "Fighting            35.31\n",
       "Adventure           23.64\n",
       "Simulation          21.76\n",
       "Strategy            10.08\n",
       "Puzzle               3.17"
      ]
     },
     "execution_count": 101,
     "metadata": {},
     "output_type": "execute_result"
    }
   ],
   "source": [
    "actual_period.pivot_table(index = 'genre', values = 'total_sales', aggfunc = 'sum').sort_values(ascending=False, by = 'total_sales')"
   ]
  },
  {
   "cell_type": "markdown",
   "metadata": {},
   "source": [
    "Игры с теми же жанрами можно сказать самые продаваемые."
   ]
  },
  {
   "cell_type": "code",
   "execution_count": 102,
   "metadata": {
    "scrolled": true
   },
   "outputs": [
    {
     "data": {
      "text/html": [
       "<div>\n",
       "<style scoped>\n",
       "    .dataframe tbody tr th:only-of-type {\n",
       "        vertical-align: middle;\n",
       "    }\n",
       "\n",
       "    .dataframe tbody tr th {\n",
       "        vertical-align: top;\n",
       "    }\n",
       "\n",
       "    .dataframe thead th {\n",
       "        text-align: right;\n",
       "    }\n",
       "</style>\n",
       "<table border=\"1\" class=\"dataframe\">\n",
       "  <thead>\n",
       "    <tr style=\"text-align: right;\">\n",
       "      <th></th>\n",
       "      <th>count</th>\n",
       "      <th>mean</th>\n",
       "      <th>std</th>\n",
       "      <th>min</th>\n",
       "      <th>25%</th>\n",
       "      <th>50%</th>\n",
       "      <th>75%</th>\n",
       "      <th>max</th>\n",
       "    </tr>\n",
       "    <tr>\n",
       "      <th>genre</th>\n",
       "      <th></th>\n",
       "      <th></th>\n",
       "      <th></th>\n",
       "      <th></th>\n",
       "      <th></th>\n",
       "      <th></th>\n",
       "      <th></th>\n",
       "      <th></th>\n",
       "    </tr>\n",
       "  </thead>\n",
       "  <tbody>\n",
       "    <tr>\n",
       "      <th>Action</th>\n",
       "      <td>766.0</td>\n",
       "      <td>0.420196</td>\n",
       "      <td>1.253909</td>\n",
       "      <td>0.01</td>\n",
       "      <td>0.03</td>\n",
       "      <td>0.110</td>\n",
       "      <td>0.3375</td>\n",
       "      <td>21.05</td>\n",
       "    </tr>\n",
       "    <tr>\n",
       "      <th>Adventure</th>\n",
       "      <td>245.0</td>\n",
       "      <td>0.096490</td>\n",
       "      <td>0.216445</td>\n",
       "      <td>0.01</td>\n",
       "      <td>0.02</td>\n",
       "      <td>0.030</td>\n",
       "      <td>0.0700</td>\n",
       "      <td>1.66</td>\n",
       "    </tr>\n",
       "    <tr>\n",
       "      <th>Fighting</th>\n",
       "      <td>80.0</td>\n",
       "      <td>0.441375</td>\n",
       "      <td>1.048883</td>\n",
       "      <td>0.01</td>\n",
       "      <td>0.06</td>\n",
       "      <td>0.125</td>\n",
       "      <td>0.3225</td>\n",
       "      <td>7.55</td>\n",
       "    </tr>\n",
       "    <tr>\n",
       "      <th>Misc</th>\n",
       "      <td>155.0</td>\n",
       "      <td>0.405290</td>\n",
       "      <td>1.007985</td>\n",
       "      <td>0.01</td>\n",
       "      <td>0.03</td>\n",
       "      <td>0.100</td>\n",
       "      <td>0.3300</td>\n",
       "      <td>9.18</td>\n",
       "    </tr>\n",
       "    <tr>\n",
       "      <th>Platform</th>\n",
       "      <td>74.0</td>\n",
       "      <td>0.576081</td>\n",
       "      <td>0.806808</td>\n",
       "      <td>0.01</td>\n",
       "      <td>0.09</td>\n",
       "      <td>0.225</td>\n",
       "      <td>0.6275</td>\n",
       "      <td>4.32</td>\n",
       "    </tr>\n",
       "    <tr>\n",
       "      <th>Puzzle</th>\n",
       "      <td>17.0</td>\n",
       "      <td>0.186471</td>\n",
       "      <td>0.325172</td>\n",
       "      <td>0.01</td>\n",
       "      <td>0.02</td>\n",
       "      <td>0.060</td>\n",
       "      <td>0.1100</td>\n",
       "      <td>1.19</td>\n",
       "    </tr>\n",
       "    <tr>\n",
       "      <th>Racing</th>\n",
       "      <td>85.0</td>\n",
       "      <td>0.469294</td>\n",
       "      <td>0.964101</td>\n",
       "      <td>0.01</td>\n",
       "      <td>0.05</td>\n",
       "      <td>0.120</td>\n",
       "      <td>0.3800</td>\n",
       "      <td>7.09</td>\n",
       "    </tr>\n",
       "    <tr>\n",
       "      <th>Role-Playing</th>\n",
       "      <td>292.0</td>\n",
       "      <td>0.499623</td>\n",
       "      <td>1.353164</td>\n",
       "      <td>0.01</td>\n",
       "      <td>0.06</td>\n",
       "      <td>0.125</td>\n",
       "      <td>0.3825</td>\n",
       "      <td>14.60</td>\n",
       "    </tr>\n",
       "    <tr>\n",
       "      <th>Shooter</th>\n",
       "      <td>187.0</td>\n",
       "      <td>1.245882</td>\n",
       "      <td>2.014107</td>\n",
       "      <td>0.01</td>\n",
       "      <td>0.14</td>\n",
       "      <td>0.450</td>\n",
       "      <td>1.4250</td>\n",
       "      <td>14.63</td>\n",
       "    </tr>\n",
       "    <tr>\n",
       "      <th>Simulation</th>\n",
       "      <td>62.0</td>\n",
       "      <td>0.350968</td>\n",
       "      <td>0.849163</td>\n",
       "      <td>0.01</td>\n",
       "      <td>0.03</td>\n",
       "      <td>0.100</td>\n",
       "      <td>0.2950</td>\n",
       "      <td>5.22</td>\n",
       "    </tr>\n",
       "    <tr>\n",
       "      <th>Sports</th>\n",
       "      <td>214.0</td>\n",
       "      <td>0.703972</td>\n",
       "      <td>1.219237</td>\n",
       "      <td>0.01</td>\n",
       "      <td>0.07</td>\n",
       "      <td>0.240</td>\n",
       "      <td>0.7650</td>\n",
       "      <td>8.58</td>\n",
       "    </tr>\n",
       "    <tr>\n",
       "      <th>Strategy</th>\n",
       "      <td>56.0</td>\n",
       "      <td>0.180000</td>\n",
       "      <td>0.279441</td>\n",
       "      <td>0.01</td>\n",
       "      <td>0.04</td>\n",
       "      <td>0.080</td>\n",
       "      <td>0.2325</td>\n",
       "      <td>1.67</td>\n",
       "    </tr>\n",
       "  </tbody>\n",
       "</table>\n",
       "</div>"
      ],
      "text/plain": [
       "              count      mean       std   min   25%    50%     75%    max\n",
       "genre                                                                    \n",
       "Action        766.0  0.420196  1.253909  0.01  0.03  0.110  0.3375  21.05\n",
       "Adventure     245.0  0.096490  0.216445  0.01  0.02  0.030  0.0700   1.66\n",
       "Fighting       80.0  0.441375  1.048883  0.01  0.06  0.125  0.3225   7.55\n",
       "Misc          155.0  0.405290  1.007985  0.01  0.03  0.100  0.3300   9.18\n",
       "Platform       74.0  0.576081  0.806808  0.01  0.09  0.225  0.6275   4.32\n",
       "Puzzle         17.0  0.186471  0.325172  0.01  0.02  0.060  0.1100   1.19\n",
       "Racing         85.0  0.469294  0.964101  0.01  0.05  0.120  0.3800   7.09\n",
       "Role-Playing  292.0  0.499623  1.353164  0.01  0.06  0.125  0.3825  14.60\n",
       "Shooter       187.0  1.245882  2.014107  0.01  0.14  0.450  1.4250  14.63\n",
       "Simulation     62.0  0.350968  0.849163  0.01  0.03  0.100  0.2950   5.22\n",
       "Sports        214.0  0.703972  1.219237  0.01  0.07  0.240  0.7650   8.58\n",
       "Strategy       56.0  0.180000  0.279441  0.01  0.04  0.080  0.2325   1.67"
      ]
     },
     "execution_count": 102,
     "metadata": {},
     "output_type": "execute_result"
    }
   ],
   "source": [
    "actual_period.groupby('genre')['total_sales'].describe()"
   ]
  },
  {
   "cell_type": "markdown",
   "metadata": {},
   "source": [
    "Мы видим, что у самые продаваемых жанров есть небольшая разница между медианым и средним значением и очень большое стандартное отклонение. А у менее продаваемых жанров игр так же есть разница между медианой и средним, но стандартное отклоение намного меньше. Их данных мы видим что лидером является жанр Shooter. "
   ]
  },
  {
   "cell_type": "markdown",
   "metadata": {},
   "source": [
    "Исходя из данных то ТОП-5 - Action, Shooter, Sports, Role-Playing, Misc. Adventure - хоть и популярный, но не прибыльный жанр. А Platform наоборот, хоть и не самый популярные жанр, но более прибыльный. В антирейтинге у нас - Puzzle, Strategy, Simulation и Fighting. Но благодаря данным о среднем значение и медианы, а так же стандартным отклонением - мы можем с уверенностью сказать что лидером продаж является жанр Shooter."
   ]
  },
  {
   "cell_type": "markdown",
   "metadata": {},
   "source": [
    "Теперь составим портрет пользователя каждого региона."
   ]
  },
  {
   "cell_type": "code",
   "execution_count": 121,
   "metadata": {},
   "outputs": [
    {
     "name": "stdout",
     "output_type": "stream",
     "text": [
      "          na_sales\n",
      "platform          \n",
      "PS4         108.74\n",
      "XOne         93.12\n",
      "X360         81.66\n",
      "PS3          63.50\n",
      "3DS          38.20\n"
     ]
    },
    {
     "data": {
      "image/png": "[encoded data removed]",
      "text/plain": [
       "<Figure size 720x720 with 1 Axes>"
      ]
     },
     "metadata": {},
     "output_type": "display_data"
    }
   ],
   "source": [
    "actual_period.pivot_table(index='platform', values='na_sales', aggfunc='sum').sort_values('na_sales', ascending=False).plot(kind='pie', figsize=(10,10), y= 'na_sales')\n",
    "print(actual_period.pivot_table(index='platform', values='na_sales', aggfunc='sum').sort_values('na_sales', ascending=False).head())"
   ]
  },
  {
   "cell_type": "code",
   "execution_count": 123,
   "metadata": {},
   "outputs": [
    {
     "name": "stdout",
     "output_type": "stream",
     "text": [
      "              na_sales\n",
      "genre                 \n",
      "Action          126.05\n",
      "Shooter         109.74\n",
      "Sports           65.27\n",
      "Role-Playing     46.40\n",
      "Misc             27.49\n"
     ]
    },
    {
     "data": {
      "image/png": "[encoded data removed]",
      "text/plain": [
       "<Figure size 720x720 with 1 Axes>"
      ]
     },
     "metadata": {},
     "output_type": "display_data"
    }
   ],
   "source": [
    "actual_period.pivot_table(index='genre', values='na_sales', aggfunc='sum').sort_values('na_sales', ascending=False).plot(kind='pie', figsize=(10,10), y= 'na_sales')\n",
    "print(actual_period.pivot_table(index='genre', values='na_sales', aggfunc='sum').sort_values('na_sales', ascending=False).head())"
   ]
  },
  {
   "cell_type": "markdown",
   "metadata": {},
   "source": [
    "Из данных мы видим, что в Северной Америке самые популярная платформа PS4, чуть меньше XOne и X360. В жанрах же лидирует Action, Shooter и Sports"
   ]
  },
  {
   "cell_type": "code",
   "execution_count": 124,
   "metadata": {},
   "outputs": [
    {
     "name": "stdout",
     "output_type": "stream",
     "text": [
      "          eu_sales\n",
      "platform          \n",
      "PS4         141.09\n",
      "PS3          67.81\n",
      "XOne         51.59\n",
      "X360         42.52\n",
      "3DS          30.96\n"
     ]
    },
    {
     "data": {
      "image/png": "[encoded data removed]",
      "text/plain": [
       "<Figure size 720x720 with 1 Axes>"
      ]
     },
     "metadata": {},
     "output_type": "display_data"
    }
   ],
   "source": [
    "actual_period.pivot_table(index='platform', values='eu_sales', aggfunc='sum').sort_values('eu_sales', ascending=False).plot(kind='pie', figsize=(10,10), y= 'eu_sales')\n",
    "print(actual_period.pivot_table(index='platform', values='eu_sales', aggfunc='sum').sort_values('eu_sales', ascending=False).head())"
   ]
  },
  {
   "cell_type": "code",
   "execution_count": 125,
   "metadata": {},
   "outputs": [
    {
     "name": "stdout",
     "output_type": "stream",
     "text": [
      "              eu_sales\n",
      "genre                 \n",
      "Action          118.13\n",
      "Shooter          87.86\n",
      "Sports           60.52\n",
      "Role-Playing     36.97\n",
      "Racing           20.19\n"
     ]
    },
    {
     "data": {
      "image/png": "[encoded data removed]",
      "text/plain": [
       "<Figure size 720x720 with 1 Axes>"
      ]
     },
     "metadata": {},
     "output_type": "display_data"
    }
   ],
   "source": [
    "actual_period.pivot_table(index='genre', values='eu_sales', aggfunc='sum').sort_values('eu_sales', ascending=False).plot(kind='pie', figsize=(10,10), y= 'eu_sales')\n",
    "print(actual_period.pivot_table(index='genre', values='eu_sales', aggfunc='sum').sort_values('eu_sales', ascending=False).head())"
   ]
  },
  {
   "cell_type": "markdown",
   "metadata": {},
   "source": [
    "Европецы так же предпочитаю PS4, но вторая по популярности платформа PS3 и на третьем месте XOne. А вот в жанрах Европейцы чуть ли не идентичны с жителями Северной Америки."
   ]
  },
  {
   "cell_type": "code",
   "execution_count": 126,
   "metadata": {},
   "outputs": [
    {
     "name": "stdout",
     "output_type": "stream",
     "text": [
      "          jp_sales\n",
      "platform          \n",
      "3DS          67.81\n",
      "PS3          23.35\n",
      "PSV          18.59\n",
      "PS4          15.96\n",
      "WiiU         10.88\n"
     ]
    },
    {
     "data": {
      "image/png": "[encoded data removed]",
      "text/plain": [
       "<Figure size 720x720 with 1 Axes>"
      ]
     },
     "metadata": {},
     "output_type": "display_data"
    }
   ],
   "source": [
    "actual_period.pivot_table(index='platform', values='jp_sales', aggfunc='sum').sort_values('jp_sales', ascending=False).plot(kind='pie', figsize=(10,10), y= 'jp_sales')\n",
    "print(actual_period.pivot_table(index='platform', values='jp_sales', aggfunc='sum').sort_values('jp_sales', ascending=False).head())"
   ]
  },
  {
   "cell_type": "code",
   "execution_count": 127,
   "metadata": {},
   "outputs": [
    {
     "name": "stdout",
     "output_type": "stream",
     "text": [
      "              jp_sales\n",
      "genre                 \n",
      "Role-Playing     51.04\n",
      "Action           40.49\n",
      "Misc              9.20\n",
      "Fighting          7.65\n",
      "Shooter           6.61\n"
     ]
    },
    {
     "data": {
      "image/png": "[encoded data removed]",
      "text/plain": [
       "<Figure size 720x720 with 1 Axes>"
      ]
     },
     "metadata": {},
     "output_type": "display_data"
    }
   ],
   "source": [
    "actual_period.pivot_table(index='genre', values='jp_sales', aggfunc='sum').sort_values('jp_sales', ascending=False).plot(kind='pie', figsize=(10,10), y= 'jp_sales')\n",
    "print(actual_period.pivot_table(index='genre', values='jp_sales', aggfunc='sum').sort_values('jp_sales', ascending=False).head())"
   ]
  },
  {
   "cell_type": "markdown",
   "metadata": {},
   "source": [
    "В Японии дела обстоят совсем иначе. Японцы любят играть в основном на 3DS. Больше половины предпочитают данную платформу. Возможно дело в том, что это их платформа. Любимые жанры у японцев - Role-Playing, Action. Данные жанры можно сказать разделили попалам предпочтения среди японцев."
   ]
  },
  {
   "cell_type": "markdown",
   "metadata": {},
   "source": [
    "Теперь рассмотрим влияние рейтинга ESRB на регионы."
   ]
  },
  {
   "cell_type": "code",
   "execution_count": 135,
   "metadata": {},
   "outputs": [
    {
     "data": {
      "text/plain": [
       "<AxesSubplot:title={'center':'Рейтинг ESRB в Северной Америке'}, xlabel='rating'>"
      ]
     },
     "execution_count": 135,
     "metadata": {},
     "output_type": "execute_result"
    },
    {
     "data": {
      "image/png": "[encoded data removed]",
      "text/plain": [
       "<Figure size 1080x432 with 1 Axes>"
      ]
     },
     "metadata": {
      "needs_background": "light"
     },
     "output_type": "display_data"
    }
   ],
   "source": [
    "na_rating = data.groupby('rating')['na_sales'].sum().sort_values(ascending=False)\n",
    "na_rating.plot(x = 'rating', y = 'na_sales', kind = 'bar', figsize=(15,6), grid=True, title = 'Рейтинг ESRB в Северной Америке')"
   ]
  },
  {
   "cell_type": "markdown",
   "metadata": {},
   "source": [
    "Мы видим что в Северной Америке самые продаваемые игры с рейтингом Е. На втором месте игры без рейтинга."
   ]
  },
  {
   "cell_type": "code",
   "execution_count": 138,
   "metadata": {},
   "outputs": [
    {
     "data": {
      "text/plain": [
       "<AxesSubplot:title={'center':'Рейтинг ESRB в Европе'}, xlabel='rating'>"
      ]
     },
     "execution_count": 138,
     "metadata": {},
     "output_type": "execute_result"
    },
    {
     "data": {
      "image/png": "[encoded data removed]",
      "text/plain": [
       "<Figure size 1080x432 with 1 Axes>"
      ]
     },
     "metadata": {
      "needs_background": "light"
     },
     "output_type": "display_data"
    }
   ],
   "source": [
    "eu_rating = data.groupby('rating')['eu_sales'].sum().sort_values(ascending=False)\n",
    "eu_rating.plot(x = 'rating', y = 'eu_sales', kind = 'bar', figsize=(15,6), grid=True, title = 'Рейтинг ESRB в Европе')"
   ]
  },
  {
   "cell_type": "markdown",
   "metadata": {},
   "source": [
    "В Европе картина выглядит можно сказать идентично. Разница только в 3-м и 4-м месте рейтинга."
   ]
  },
  {
   "cell_type": "code",
   "execution_count": 139,
   "metadata": {},
   "outputs": [
    {
     "data": {
      "text/plain": [
       "<AxesSubplot:title={'center':'Рейтинг ESRB в Японии'}, xlabel='rating'>"
      ]
     },
     "execution_count": 139,
     "metadata": {},
     "output_type": "execute_result"
    },
    {
     "data": {
      "image/png": "[encoded data removed]",
      "text/plain": [
       "<Figure size 1080x432 with 1 Axes>"
      ]
     },
     "metadata": {
      "needs_background": "light"
     },
     "output_type": "display_data"
    }
   ],
   "source": [
    "jp_rating = data.groupby('rating')['jp_sales'].sum().sort_values(ascending=False)\n",
    "jp_rating.plot(x = 'rating', y = 'jp_sales', kind = 'bar', figsize=(15,6), grid=True, title = 'Рейтинг ESRB в Японии')"
   ]
  },
  {
   "cell_type": "markdown",
   "metadata": {},
   "source": [
    "А вот японцы как всегда отличились. В Японии самые продаваемые игры без рейтинга."
   ]
  },
  {
   "cell_type": "code",
   "execution_count": 141,
   "metadata": {},
   "outputs": [
    {
     "data": {
      "text/plain": [
       "<AxesSubplot:title={'center':'Рейтинг ESRB в других регионах'}, xlabel='rating'>"
      ]
     },
     "execution_count": 141,
     "metadata": {},
     "output_type": "execute_result"
    },
    {
     "data": {
      "image/png": "[encoded data removed]",
      "text/plain": [
       "<Figure size 1080x432 with 1 Axes>"
      ]
     },
     "metadata": {
      "needs_background": "light"
     },
     "output_type": "display_data"
    }
   ],
   "source": [
    "other_rating = data.groupby('rating')['other_sales'].sum().sort_values(ascending=False)\n",
    "other_rating.plot(x = 'rating', y = 'other_sales', kind = 'bar', figsize=(15,6), grid=True, title = 'Рейтинг ESRB в других регионах')"
   ]
  },
  {
   "cell_type": "markdown",
   "metadata": {},
   "source": [
    "В других регионах лидирует игры с рейтинг E, M и T. Игры без рейтинга заняли 4 место."
   ]
  },
  {
   "cell_type": "markdown",
   "metadata": {},
   "source": [
    "Можно с уверенность сказать, что японцы не обращают внимание на рейтинг данной компании, чтобы приобрести себе игру. Что нельзя сказать о других регионах. Но утверждать, что рейтинг имеет сильное влияение на покупку тоже утверждать нельзя."
   ]
  },
  {
   "cell_type": "markdown",
   "metadata": {},
   "source": [
    "Исходя из данных можно сделать вывод, что данные рейтинг в основном влияет на страны Европы и Северную Америку. "
   ]
  },
  {
   "cell_type": "markdown",
   "metadata": {},
   "source": [
    "Теперь проверим гипотезу: Средние пользовательские рейтинги платформ XOne и PC одинаковые. Сформулирем: Нулевая гипотеза: Средние пользовательские рейтинги платформ XOne и PC одинаковые; Альтернативная гипотеза: Средние пользовательские рейтинги платформ XOne и PC различаются. Для проверки гипотезы возьмем специальный метод о равенстве среднего двух генеральных совокупностей взятым из них выборкам - ttest_ind."
   ]
  },
  {
   "cell_type": "code",
   "execution_count": 110,
   "metadata": {},
   "outputs": [],
   "source": [
    "xone = actual_period[(actual_period['platform'] == 'XOne') &  (actual_period['user_score'] > 0)]['user_score']\n",
    "pc = actual_period[(actual_period['platform'] == 'PC') &  (actual_period['user_score'] > 0)]['user_score']"
   ]
  },
  {
   "cell_type": "code",
   "execution_count": 111,
   "metadata": {},
   "outputs": [
    {
     "data": {
      "text/plain": [
       "6.521428571428572"
      ]
     },
     "execution_count": 111,
     "metadata": {},
     "output_type": "execute_result"
    }
   ],
   "source": [
    "xone.mean()"
   ]
  },
  {
   "cell_type": "code",
   "execution_count": 112,
   "metadata": {},
   "outputs": [
    {
     "data": {
      "text/plain": [
       "6.2696774193548395"
      ]
     },
     "execution_count": 112,
     "metadata": {},
     "output_type": "execute_result"
    }
   ],
   "source": [
    "pc.mean()"
   ]
  },
  {
   "cell_type": "code",
   "execution_count": 113,
   "metadata": {},
   "outputs": [
    {
     "name": "stdout",
     "output_type": "stream",
     "text": [
      "p-значение: 0.14012658403611647\n",
      "Не получилось отвергнуть нулевую гипотезу\n"
     ]
    }
   ],
   "source": [
    "from scipy import stats as st\n",
    "alpha = .05\n",
    "results = st.ttest_ind(actual_period[actual_period['platform'] == 'PC']['user_score'].dropna(), actual_period[actual_period['platform'] == 'XOne']['user_score'].dropna())\n",
    "print('p-значение:', results.pvalue)\n",
    "if results.pvalue < alpha:\n",
    "    print(\"Отвергаем нулевую гипотезу\")\n",
    "else:\n",
    "    print(\"Не получилось отвергнуть нулевую гипотезу\")"
   ]
  },
  {
   "cell_type": "markdown",
   "metadata": {},
   "source": [
    "Из данных мы видим, что рейтинги не сильно отличаются у платформ. У нас не получилось опровергнуть нулевую гипотезу о том, что средние пользовательские рейтинги платформ одинаковые. "
   ]
  },
  {
   "cell_type": "markdown",
   "metadata": {},
   "source": [
    "Теперь проверим гипотезу: •\tСредние пользовательские рейтинги жанров Action (англ. «действие», экшен-игры) и Sports (англ. «спортивные соревнования») разные. Сформулирем: Нулевая гипотеза: Средние пользовательские рейтинги жанров Action (англ. «действие», экшен-игры) и Sports (англ. «спортивные соревнования») одинаковые; Альтернативная гипотеза: Средние пользовательские рейтинги жанров Action (англ. «действие», экшен-игры) и Sports (англ. «спортивные соревнования») разные. Для проверки гипотезы возьмем специальный метод о равенстве среднего двух генеральных совокупностей взятым из них выборкам - ttest_ind."
   ]
  },
  {
   "cell_type": "code",
   "execution_count": 114,
   "metadata": {},
   "outputs": [],
   "source": [
    "action = actual_period[(actual_period['genre'] == 'Action') &  (actual_period['user_score'] > 0)]['user_score']\n",
    "sports = actual_period[(actual_period['genre'] == 'Sports') &  (actual_period['user_score'] > 0)]['user_score']"
   ]
  },
  {
   "cell_type": "code",
   "execution_count": 115,
   "metadata": {},
   "outputs": [
    {
     "data": {
      "text/plain": [
       "6.837532133676092"
      ]
     },
     "execution_count": 115,
     "metadata": {},
     "output_type": "execute_result"
    }
   ],
   "source": [
    "action.mean()"
   ]
  },
  {
   "cell_type": "code",
   "execution_count": 116,
   "metadata": {},
   "outputs": [
    {
     "data": {
      "text/plain": [
       "5.238124999999999"
      ]
     },
     "execution_count": 116,
     "metadata": {},
     "output_type": "execute_result"
    }
   ],
   "source": [
    "sports.mean()"
   ]
  },
  {
   "cell_type": "code",
   "execution_count": 117,
   "metadata": {},
   "outputs": [
    {
     "name": "stdout",
     "output_type": "stream",
     "text": [
      "p-значение: 1.0517832389140023e-27\n",
      "Отвергаем нулевую гипотезу\n"
     ]
    }
   ],
   "source": [
    "alpha = .05\n",
    "results = st.ttest_ind(actual_period[actual_period['genre'] == 'Action']['user_score'].dropna(), actual_period[actual_period['genre'] == 'Sports']['user_score'].dropna())\n",
    "print('p-значение:', results.pvalue)\n",
    "if results.pvalue < alpha:\n",
    "    print(\"Отвергаем нулевую гипотезу\")\n",
    "else:\n",
    "    print(\"Не получилось отвергнуть нулевую гипотезу\")"
   ]
  },
  {
   "cell_type": "markdown",
   "metadata": {},
   "source": [
    "Из данных мы видим, что средние пользовательские рейтинги жанров Action и Sports разные, что и подтвердил наш метод."
   ]
  },
  {
   "cell_type": "markdown",
   "metadata": {},
   "source": [
    "Общий вывод: Мы можем сказать, что больше всего игр выпускалась после 2000 годов. Самые пиковые года были с 2003 года по 2011 год. В эти года выпускалась больше всего игр. ТОП-5 платформ PS2, X360, PS3, Wii, DS. В среднем платформы устаревают через 10 лет. Так же можно сказать, что в 2017 году еще актуальны будут платформы PS4, XOne, 3DS. Остальные платформы уже уходят на нет. Оценка критиков имеет небольшое влияение, чем оценки пользователей на продажи. ТОП-5 жанров - Action, Shooter, Sports, Role-Playing, Misc. Adventure - хоть и популярный, но не прибыльный жанр. А Platform наоборот, хоть и не самый популярный жанр, но более прибыльный. В антирейтинге у нас - Puzzle, Strategy, Simulation и Fighting. Европейцы и Американцы имеют схожие предпочтения, что в жанрах, что в платформах. Японцы кардинально отличаются. Единственная схожасть - это жанр игр Action. \n",
    "\n"
   ]
  }
 ],
 "metadata": {
  "ExecuteTimeLog": [
   {
    "duration": 651,
    "start_time": "2023-02-28T18:08:02.827Z"
   },
   {
    "duration": 67,
    "start_time": "2023-03-01T07:50:44.524Z"
   },
   {
    "duration": 557,
    "start_time": "2023-03-01T07:50:47.231Z"
   },
   {
    "duration": 4,
    "start_time": "2023-03-01T07:50:47.790Z"
   },
   {
    "duration": 17,
    "start_time": "2023-03-01T07:51:10.643Z"
   },
   {
    "duration": 4,
    "start_time": "2023-03-01T07:54:26.780Z"
   },
   {
    "duration": 15,
    "start_time": "2023-03-01T07:54:29.265Z"
   },
   {
    "duration": 4,
    "start_time": "2023-03-01T07:54:49.373Z"
   },
   {
    "duration": 13,
    "start_time": "2023-03-01T07:54:49.800Z"
   },
   {
    "duration": 27,
    "start_time": "2023-03-01T07:55:59.005Z"
   },
   {
    "duration": 8,
    "start_time": "2023-03-01T07:56:06.860Z"
   },
   {
    "duration": 4,
    "start_time": "2023-03-01T07:56:13.063Z"
   },
   {
    "duration": 3,
    "start_time": "2023-03-01T07:56:18.378Z"
   },
   {
    "duration": 16,
    "start_time": "2023-03-01T07:56:19.061Z"
   },
   {
    "duration": 22,
    "start_time": "2023-03-01T07:57:44.100Z"
   },
   {
    "duration": 3,
    "start_time": "2023-03-01T07:57:59.402Z"
   },
   {
    "duration": 18,
    "start_time": "2023-03-01T07:58:00.693Z"
   },
   {
    "duration": 5,
    "start_time": "2023-03-01T07:58:03.564Z"
   },
   {
    "duration": 29,
    "start_time": "2023-03-01T07:58:04.233Z"
   },
   {
    "duration": 59,
    "start_time": "2023-03-01T07:58:06.855Z"
   },
   {
    "duration": 4,
    "start_time": "2023-03-01T07:58:06.916Z"
   },
   {
    "duration": 44,
    "start_time": "2023-03-01T07:58:06.921Z"
   },
   {
    "duration": 12,
    "start_time": "2023-03-01T07:58:06.968Z"
   },
   {
    "duration": 15,
    "start_time": "2023-03-01T08:04:47.115Z"
   },
   {
    "duration": 24,
    "start_time": "2023-03-01T08:07:09.929Z"
   },
   {
    "duration": 21,
    "start_time": "2023-03-01T08:13:04.997Z"
   },
   {
    "duration": 79,
    "start_time": "2023-03-01T08:15:58.044Z"
   },
   {
    "duration": 5,
    "start_time": "2023-03-01T08:16:02.611Z"
   },
   {
    "duration": 83,
    "start_time": "2023-03-01T08:17:31.186Z"
   },
   {
    "duration": 5,
    "start_time": "2023-03-01T08:22:16.687Z"
   },
   {
    "duration": 8,
    "start_time": "2023-03-01T08:22:31.444Z"
   },
   {
    "duration": 7,
    "start_time": "2023-03-01T08:25:45.488Z"
   },
   {
    "duration": 1284,
    "start_time": "2023-03-01T08:25:49.929Z"
   },
   {
    "duration": 14,
    "start_time": "2023-03-01T08:26:29.284Z"
   },
   {
    "duration": 13,
    "start_time": "2023-03-01T08:26:42.676Z"
   },
   {
    "duration": 67,
    "start_time": "2023-03-01T08:26:46.421Z"
   },
   {
    "duration": 4,
    "start_time": "2023-03-01T08:26:46.491Z"
   },
   {
    "duration": 30,
    "start_time": "2023-03-01T08:26:46.496Z"
   },
   {
    "duration": 24,
    "start_time": "2023-03-01T08:26:46.528Z"
   },
   {
    "duration": 15,
    "start_time": "2023-03-01T08:26:46.554Z"
   },
   {
    "duration": 6,
    "start_time": "2023-03-01T08:26:46.570Z"
   },
   {
    "duration": 19,
    "start_time": "2023-03-01T08:26:46.578Z"
   },
   {
    "duration": 7,
    "start_time": "2023-03-01T08:26:46.598Z"
   },
   {
    "duration": 14,
    "start_time": "2023-03-01T08:26:46.606Z"
   },
   {
    "duration": 55,
    "start_time": "2023-03-01T08:26:48.974Z"
   },
   {
    "duration": 16,
    "start_time": "2023-03-01T08:26:49.031Z"
   },
   {
    "duration": 24,
    "start_time": "2023-03-01T08:26:49.049Z"
   },
   {
    "duration": 19,
    "start_time": "2023-03-01T08:26:49.076Z"
   },
   {
    "duration": 13,
    "start_time": "2023-03-01T08:26:49.097Z"
   },
   {
    "duration": 9,
    "start_time": "2023-03-01T08:26:49.112Z"
   },
   {
    "duration": 15,
    "start_time": "2023-03-01T08:26:49.123Z"
   },
   {
    "duration": 10,
    "start_time": "2023-03-01T08:26:49.141Z"
   },
   {
    "duration": 12,
    "start_time": "2023-03-01T08:26:49.152Z"
   },
   {
    "duration": 12,
    "start_time": "2023-03-01T08:26:51.548Z"
   },
   {
    "duration": 8,
    "start_time": "2023-03-01T09:32:38.860Z"
   },
   {
    "duration": 16,
    "start_time": "2023-03-01T09:38:48.983Z"
   },
   {
    "duration": 8,
    "start_time": "2023-03-01T09:38:54.783Z"
   },
   {
    "duration": 14,
    "start_time": "2023-03-01T09:42:23.212Z"
   },
   {
    "duration": 59,
    "start_time": "2023-03-01T09:42:48.968Z"
   },
   {
    "duration": 4,
    "start_time": "2023-03-01T09:42:49.029Z"
   },
   {
    "duration": 23,
    "start_time": "2023-03-01T09:42:49.034Z"
   },
   {
    "duration": 20,
    "start_time": "2023-03-01T09:42:49.060Z"
   },
   {
    "duration": 13,
    "start_time": "2023-03-01T09:42:49.082Z"
   },
   {
    "duration": 10,
    "start_time": "2023-03-01T09:42:49.096Z"
   },
   {
    "duration": 28,
    "start_time": "2023-03-01T09:42:49.108Z"
   },
   {
    "duration": 10,
    "start_time": "2023-03-01T09:42:49.137Z"
   },
   {
    "duration": 13,
    "start_time": "2023-03-01T09:42:49.148Z"
   },
   {
    "duration": 14,
    "start_time": "2023-03-01T09:42:49.163Z"
   },
   {
    "duration": 19,
    "start_time": "2023-03-01T09:42:49.179Z"
   },
   {
    "duration": 15,
    "start_time": "2023-03-01T09:42:49.200Z"
   },
   {
    "duration": 496,
    "start_time": "2023-03-01T09:43:00.121Z"
   },
   {
    "duration": 4,
    "start_time": "2023-03-01T09:43:00.619Z"
   },
   {
    "duration": 82,
    "start_time": "2023-03-01T09:43:00.625Z"
   },
   {
    "duration": 88,
    "start_time": "2023-03-01T09:43:00.709Z"
   },
   {
    "duration": 53,
    "start_time": "2023-03-01T09:43:00.799Z"
   },
   {
    "duration": 54,
    "start_time": "2023-03-01T09:43:00.854Z"
   },
   {
    "duration": 58,
    "start_time": "2023-03-01T09:43:00.910Z"
   },
   {
    "duration": 52,
    "start_time": "2023-03-01T09:43:00.969Z"
   },
   {
    "duration": 68,
    "start_time": "2023-03-01T09:43:01.023Z"
   },
   {
    "duration": 42,
    "start_time": "2023-03-01T09:43:01.094Z"
   },
   {
    "duration": 39,
    "start_time": "2023-03-01T09:43:01.138Z"
   },
   {
    "duration": 118,
    "start_time": "2023-03-01T09:43:01.179Z"
   },
   {
    "duration": 13,
    "start_time": "2023-03-01T09:43:12.523Z"
   },
   {
    "duration": 14,
    "start_time": "2023-03-01T09:43:30.754Z"
   },
   {
    "duration": 8,
    "start_time": "2023-03-01T09:48:33.580Z"
   },
   {
    "duration": 10,
    "start_time": "2023-03-01T09:51:32.437Z"
   },
   {
    "duration": 9,
    "start_time": "2023-03-01T09:51:37.361Z"
   },
   {
    "duration": 19,
    "start_time": "2023-03-01T09:55:16.744Z"
   },
   {
    "duration": 9,
    "start_time": "2023-03-01T09:58:55.901Z"
   },
   {
    "duration": 14,
    "start_time": "2023-03-01T09:59:04.896Z"
   },
   {
    "duration": 9,
    "start_time": "2023-03-01T10:00:48.189Z"
   },
   {
    "duration": 3,
    "start_time": "2023-03-01T10:03:35.607Z"
   },
   {
    "duration": 8,
    "start_time": "2023-03-01T10:03:38.555Z"
   },
   {
    "duration": 4,
    "start_time": "2023-03-01T10:05:02.215Z"
   },
   {
    "duration": 9,
    "start_time": "2023-03-01T10:05:45.747Z"
   },
   {
    "duration": 9,
    "start_time": "2023-03-01T10:05:59.807Z"
   },
   {
    "duration": 572,
    "start_time": "2023-03-01T10:06:36.316Z"
   },
   {
    "duration": 207,
    "start_time": "2023-03-01T10:07:03.684Z"
   },
   {
    "duration": 141,
    "start_time": "2023-03-01T10:07:45.284Z"
   },
   {
    "duration": 149,
    "start_time": "2023-03-01T10:08:09.873Z"
   },
   {
    "duration": 183,
    "start_time": "2023-03-01T10:08:16.828Z"
   },
   {
    "duration": 174,
    "start_time": "2023-03-01T10:08:24.260Z"
   },
   {
    "duration": 142,
    "start_time": "2023-03-01T10:08:29.569Z"
   },
   {
    "duration": 139,
    "start_time": "2023-03-01T10:09:53.029Z"
   },
   {
    "duration": 44,
    "start_time": "2023-03-01T16:51:29.589Z"
   },
   {
    "duration": 723,
    "start_time": "2023-03-01T16:51:47.189Z"
   },
   {
    "duration": 0,
    "start_time": "2023-03-01T16:51:47.914Z"
   },
   {
    "duration": 0,
    "start_time": "2023-03-01T16:51:47.915Z"
   },
   {
    "duration": 0,
    "start_time": "2023-03-01T16:51:47.916Z"
   },
   {
    "duration": 0,
    "start_time": "2023-03-01T16:51:47.917Z"
   },
   {
    "duration": 0,
    "start_time": "2023-03-01T16:51:47.918Z"
   },
   {
    "duration": 0,
    "start_time": "2023-03-01T16:51:47.919Z"
   },
   {
    "duration": 0,
    "start_time": "2023-03-01T16:51:47.920Z"
   },
   {
    "duration": 0,
    "start_time": "2023-03-01T16:51:47.920Z"
   },
   {
    "duration": 0,
    "start_time": "2023-03-01T16:51:47.921Z"
   },
   {
    "duration": 0,
    "start_time": "2023-03-01T16:51:47.922Z"
   },
   {
    "duration": 0,
    "start_time": "2023-03-01T16:51:47.923Z"
   },
   {
    "duration": 0,
    "start_time": "2023-03-01T16:51:47.924Z"
   },
   {
    "duration": 0,
    "start_time": "2023-03-01T16:51:47.925Z"
   },
   {
    "duration": 0,
    "start_time": "2023-03-01T16:51:47.925Z"
   },
   {
    "duration": 0,
    "start_time": "2023-03-01T16:51:47.926Z"
   },
   {
    "duration": 7,
    "start_time": "2023-03-01T16:51:51.014Z"
   },
   {
    "duration": 470,
    "start_time": "2023-03-01T16:51:57.520Z"
   },
   {
    "duration": 0,
    "start_time": "2023-03-01T16:51:57.992Z"
   },
   {
    "duration": 0,
    "start_time": "2023-03-01T16:51:57.993Z"
   },
   {
    "duration": 0,
    "start_time": "2023-03-01T16:51:57.994Z"
   },
   {
    "duration": 0,
    "start_time": "2023-03-01T16:51:57.995Z"
   },
   {
    "duration": 0,
    "start_time": "2023-03-01T16:51:57.996Z"
   },
   {
    "duration": 0,
    "start_time": "2023-03-01T16:51:57.997Z"
   },
   {
    "duration": 0,
    "start_time": "2023-03-01T16:51:57.998Z"
   },
   {
    "duration": 0,
    "start_time": "2023-03-01T16:51:57.999Z"
   },
   {
    "duration": 0,
    "start_time": "2023-03-01T16:51:58.000Z"
   },
   {
    "duration": 0,
    "start_time": "2023-03-01T16:51:58.001Z"
   },
   {
    "duration": 0,
    "start_time": "2023-03-01T16:51:58.002Z"
   },
   {
    "duration": 0,
    "start_time": "2023-03-01T16:51:58.003Z"
   },
   {
    "duration": 0,
    "start_time": "2023-03-01T16:51:58.003Z"
   },
   {
    "duration": 0,
    "start_time": "2023-03-01T16:51:58.005Z"
   },
   {
    "duration": 0,
    "start_time": "2023-03-01T16:51:58.006Z"
   },
   {
    "duration": 7,
    "start_time": "2023-03-01T16:52:00.140Z"
   },
   {
    "duration": 7,
    "start_time": "2023-03-01T16:52:05.896Z"
   },
   {
    "duration": 21,
    "start_time": "2023-03-01T16:52:45.159Z"
   },
   {
    "duration": 0,
    "start_time": "2023-03-01T16:52:45.182Z"
   },
   {
    "duration": 0,
    "start_time": "2023-03-01T16:52:45.183Z"
   },
   {
    "duration": 0,
    "start_time": "2023-03-01T16:52:45.184Z"
   },
   {
    "duration": 0,
    "start_time": "2023-03-01T16:52:45.185Z"
   },
   {
    "duration": 0,
    "start_time": "2023-03-01T16:52:45.186Z"
   },
   {
    "duration": 0,
    "start_time": "2023-03-01T16:52:45.187Z"
   },
   {
    "duration": 0,
    "start_time": "2023-03-01T16:52:45.187Z"
   },
   {
    "duration": 0,
    "start_time": "2023-03-01T16:52:45.188Z"
   },
   {
    "duration": 0,
    "start_time": "2023-03-01T16:52:45.189Z"
   },
   {
    "duration": 0,
    "start_time": "2023-03-01T16:52:45.191Z"
   },
   {
    "duration": 6,
    "start_time": "2023-03-01T16:52:45.193Z"
   },
   {
    "duration": 0,
    "start_time": "2023-03-01T16:52:45.201Z"
   },
   {
    "duration": 0,
    "start_time": "2023-03-01T16:52:45.202Z"
   },
   {
    "duration": 0,
    "start_time": "2023-03-01T16:52:45.203Z"
   },
   {
    "duration": 0,
    "start_time": "2023-03-01T16:52:45.204Z"
   },
   {
    "duration": 415,
    "start_time": "2023-03-01T16:52:51.989Z"
   },
   {
    "duration": 0,
    "start_time": "2023-03-01T16:52:52.407Z"
   },
   {
    "duration": 0,
    "start_time": "2023-03-01T16:52:52.408Z"
   },
   {
    "duration": 0,
    "start_time": "2023-03-01T16:52:52.410Z"
   },
   {
    "duration": 0,
    "start_time": "2023-03-01T16:52:52.412Z"
   },
   {
    "duration": 0,
    "start_time": "2023-03-01T16:52:52.413Z"
   },
   {
    "duration": 0,
    "start_time": "2023-03-01T16:52:52.414Z"
   },
   {
    "duration": 0,
    "start_time": "2023-03-01T16:52:52.416Z"
   },
   {
    "duration": 0,
    "start_time": "2023-03-01T16:52:52.417Z"
   },
   {
    "duration": 0,
    "start_time": "2023-03-01T16:52:52.418Z"
   },
   {
    "duration": 0,
    "start_time": "2023-03-01T16:52:52.419Z"
   },
   {
    "duration": 0,
    "start_time": "2023-03-01T16:52:52.421Z"
   },
   {
    "duration": 0,
    "start_time": "2023-03-01T16:52:52.440Z"
   },
   {
    "duration": 0,
    "start_time": "2023-03-01T16:52:52.442Z"
   },
   {
    "duration": 0,
    "start_time": "2023-03-01T16:52:52.443Z"
   },
   {
    "duration": 0,
    "start_time": "2023-03-01T16:52:52.445Z"
   },
   {
    "duration": 9,
    "start_time": "2023-03-01T16:52:55.052Z"
   },
   {
    "duration": 20,
    "start_time": "2023-03-01T16:52:59.236Z"
   },
   {
    "duration": 22,
    "start_time": "2023-03-01T16:53:07.492Z"
   },
   {
    "duration": 0,
    "start_time": "2023-03-01T16:53:07.516Z"
   },
   {
    "duration": 0,
    "start_time": "2023-03-01T16:53:07.517Z"
   },
   {
    "duration": 0,
    "start_time": "2023-03-01T16:53:07.518Z"
   },
   {
    "duration": 0,
    "start_time": "2023-03-01T16:53:07.520Z"
   },
   {
    "duration": 0,
    "start_time": "2023-03-01T16:53:07.521Z"
   },
   {
    "duration": 0,
    "start_time": "2023-03-01T16:53:07.522Z"
   },
   {
    "duration": 0,
    "start_time": "2023-03-01T16:53:07.524Z"
   },
   {
    "duration": 0,
    "start_time": "2023-03-01T16:53:07.524Z"
   },
   {
    "duration": 9,
    "start_time": "2023-03-01T16:53:07.526Z"
   },
   {
    "duration": 0,
    "start_time": "2023-03-01T16:53:07.536Z"
   },
   {
    "duration": 0,
    "start_time": "2023-03-01T16:53:07.537Z"
   },
   {
    "duration": 0,
    "start_time": "2023-03-01T16:53:07.539Z"
   },
   {
    "duration": 0,
    "start_time": "2023-03-01T16:53:07.540Z"
   },
   {
    "duration": 0,
    "start_time": "2023-03-01T16:53:07.542Z"
   },
   {
    "duration": 0,
    "start_time": "2023-03-01T16:53:07.543Z"
   },
   {
    "duration": 470,
    "start_time": "2023-03-01T16:53:24.321Z"
   },
   {
    "duration": 0,
    "start_time": "2023-03-01T16:53:24.793Z"
   },
   {
    "duration": 0,
    "start_time": "2023-03-01T16:53:24.794Z"
   },
   {
    "duration": 0,
    "start_time": "2023-03-01T16:53:24.795Z"
   },
   {
    "duration": 0,
    "start_time": "2023-03-01T16:53:24.796Z"
   },
   {
    "duration": 0,
    "start_time": "2023-03-01T16:53:24.797Z"
   },
   {
    "duration": 0,
    "start_time": "2023-03-01T16:53:24.798Z"
   },
   {
    "duration": 0,
    "start_time": "2023-03-01T16:53:24.800Z"
   },
   {
    "duration": 0,
    "start_time": "2023-03-01T16:53:24.801Z"
   },
   {
    "duration": 0,
    "start_time": "2023-03-01T16:53:24.802Z"
   },
   {
    "duration": 0,
    "start_time": "2023-03-01T16:53:24.803Z"
   },
   {
    "duration": 0,
    "start_time": "2023-03-01T16:53:24.805Z"
   },
   {
    "duration": 0,
    "start_time": "2023-03-01T16:53:24.806Z"
   },
   {
    "duration": 0,
    "start_time": "2023-03-01T16:53:24.807Z"
   },
   {
    "duration": 0,
    "start_time": "2023-03-01T16:53:24.808Z"
   },
   {
    "duration": 0,
    "start_time": "2023-03-01T16:53:24.810Z"
   },
   {
    "duration": 25,
    "start_time": "2023-03-01T16:55:32.413Z"
   },
   {
    "duration": 21,
    "start_time": "2023-03-01T16:55:40.753Z"
   },
   {
    "duration": 0,
    "start_time": "2023-03-01T16:55:40.776Z"
   },
   {
    "duration": 0,
    "start_time": "2023-03-01T16:55:40.777Z"
   },
   {
    "duration": 0,
    "start_time": "2023-03-01T16:55:40.778Z"
   },
   {
    "duration": 0,
    "start_time": "2023-03-01T16:55:40.780Z"
   },
   {
    "duration": 0,
    "start_time": "2023-03-01T16:55:40.781Z"
   },
   {
    "duration": 0,
    "start_time": "2023-03-01T16:55:40.781Z"
   },
   {
    "duration": 0,
    "start_time": "2023-03-01T16:55:40.782Z"
   },
   {
    "duration": 0,
    "start_time": "2023-03-01T16:55:40.783Z"
   },
   {
    "duration": 7,
    "start_time": "2023-03-01T16:55:40.785Z"
   },
   {
    "duration": 0,
    "start_time": "2023-03-01T16:55:40.794Z"
   },
   {
    "duration": 7,
    "start_time": "2023-03-01T16:55:40.804Z"
   },
   {
    "duration": 0,
    "start_time": "2023-03-01T16:55:40.813Z"
   },
   {
    "duration": 0,
    "start_time": "2023-03-01T16:55:40.814Z"
   },
   {
    "duration": 0,
    "start_time": "2023-03-01T16:55:40.815Z"
   },
   {
    "duration": 0,
    "start_time": "2023-03-01T16:55:40.816Z"
   },
   {
    "duration": 441,
    "start_time": "2023-03-01T16:55:47.177Z"
   },
   {
    "duration": 0,
    "start_time": "2023-03-01T16:55:47.620Z"
   },
   {
    "duration": 0,
    "start_time": "2023-03-01T16:55:47.621Z"
   },
   {
    "duration": 0,
    "start_time": "2023-03-01T16:55:47.623Z"
   },
   {
    "duration": 0,
    "start_time": "2023-03-01T16:55:47.624Z"
   },
   {
    "duration": 0,
    "start_time": "2023-03-01T16:55:47.626Z"
   },
   {
    "duration": 0,
    "start_time": "2023-03-01T16:55:47.627Z"
   },
   {
    "duration": 0,
    "start_time": "2023-03-01T16:55:47.628Z"
   },
   {
    "duration": 0,
    "start_time": "2023-03-01T16:55:47.629Z"
   },
   {
    "duration": 0,
    "start_time": "2023-03-01T16:55:47.631Z"
   },
   {
    "duration": 0,
    "start_time": "2023-03-01T16:55:47.632Z"
   },
   {
    "duration": 0,
    "start_time": "2023-03-01T16:55:47.633Z"
   },
   {
    "duration": 0,
    "start_time": "2023-03-01T16:55:47.640Z"
   },
   {
    "duration": 0,
    "start_time": "2023-03-01T16:55:47.641Z"
   },
   {
    "duration": 0,
    "start_time": "2023-03-01T16:55:47.643Z"
   },
   {
    "duration": 0,
    "start_time": "2023-03-01T16:55:47.644Z"
   },
   {
    "duration": 438,
    "start_time": "2023-03-01T17:09:48.260Z"
   },
   {
    "duration": 0,
    "start_time": "2023-03-01T17:09:48.700Z"
   },
   {
    "duration": 0,
    "start_time": "2023-03-01T17:09:48.701Z"
   },
   {
    "duration": 0,
    "start_time": "2023-03-01T17:09:48.702Z"
   },
   {
    "duration": 0,
    "start_time": "2023-03-01T17:09:48.703Z"
   },
   {
    "duration": 0,
    "start_time": "2023-03-01T17:09:48.704Z"
   },
   {
    "duration": 0,
    "start_time": "2023-03-01T17:09:48.706Z"
   },
   {
    "duration": 0,
    "start_time": "2023-03-01T17:09:48.708Z"
   },
   {
    "duration": 0,
    "start_time": "2023-03-01T17:09:48.710Z"
   },
   {
    "duration": 0,
    "start_time": "2023-03-01T17:09:48.712Z"
   },
   {
    "duration": 0,
    "start_time": "2023-03-01T17:09:48.714Z"
   },
   {
    "duration": 0,
    "start_time": "2023-03-01T17:09:48.716Z"
   },
   {
    "duration": 0,
    "start_time": "2023-03-01T17:09:48.741Z"
   },
   {
    "duration": 0,
    "start_time": "2023-03-01T17:09:48.742Z"
   },
   {
    "duration": 1,
    "start_time": "2023-03-01T17:09:48.744Z"
   },
   {
    "duration": 0,
    "start_time": "2023-03-01T17:09:48.746Z"
   },
   {
    "duration": 21,
    "start_time": "2023-03-01T17:09:58.809Z"
   },
   {
    "duration": 0,
    "start_time": "2023-03-01T17:09:58.831Z"
   },
   {
    "duration": 0,
    "start_time": "2023-03-01T17:09:58.832Z"
   },
   {
    "duration": 0,
    "start_time": "2023-03-01T17:09:58.834Z"
   },
   {
    "duration": 0,
    "start_time": "2023-03-01T17:09:58.835Z"
   },
   {
    "duration": 0,
    "start_time": "2023-03-01T17:09:58.836Z"
   },
   {
    "duration": 0,
    "start_time": "2023-03-01T17:09:58.836Z"
   },
   {
    "duration": 0,
    "start_time": "2023-03-01T17:09:58.837Z"
   },
   {
    "duration": 0,
    "start_time": "2023-03-01T17:09:58.838Z"
   },
   {
    "duration": 0,
    "start_time": "2023-03-01T17:09:58.839Z"
   },
   {
    "duration": 6,
    "start_time": "2023-03-01T17:09:58.842Z"
   },
   {
    "duration": 0,
    "start_time": "2023-03-01T17:09:58.850Z"
   },
   {
    "duration": 0,
    "start_time": "2023-03-01T17:09:58.851Z"
   },
   {
    "duration": 0,
    "start_time": "2023-03-01T17:09:58.852Z"
   },
   {
    "duration": 0,
    "start_time": "2023-03-01T17:09:58.853Z"
   },
   {
    "duration": 0,
    "start_time": "2023-03-01T17:09:58.855Z"
   },
   {
    "duration": 468,
    "start_time": "2023-03-01T17:14:12.519Z"
   },
   {
    "duration": 0,
    "start_time": "2023-03-01T17:14:12.989Z"
   },
   {
    "duration": 0,
    "start_time": "2023-03-01T17:14:12.990Z"
   },
   {
    "duration": 0,
    "start_time": "2023-03-01T17:14:12.991Z"
   },
   {
    "duration": 0,
    "start_time": "2023-03-01T17:14:12.991Z"
   },
   {
    "duration": 0,
    "start_time": "2023-03-01T17:14:12.992Z"
   },
   {
    "duration": 0,
    "start_time": "2023-03-01T17:14:12.993Z"
   },
   {
    "duration": 0,
    "start_time": "2023-03-01T17:14:12.994Z"
   },
   {
    "duration": 0,
    "start_time": "2023-03-01T17:14:12.994Z"
   },
   {
    "duration": 0,
    "start_time": "2023-03-01T17:14:12.995Z"
   },
   {
    "duration": 0,
    "start_time": "2023-03-01T17:14:12.997Z"
   },
   {
    "duration": 0,
    "start_time": "2023-03-01T17:14:12.997Z"
   },
   {
    "duration": 0,
    "start_time": "2023-03-01T17:14:12.998Z"
   },
   {
    "duration": 0,
    "start_time": "2023-03-01T17:14:12.999Z"
   },
   {
    "duration": 0,
    "start_time": "2023-03-01T17:14:13.000Z"
   },
   {
    "duration": 0,
    "start_time": "2023-03-01T17:14:13.001Z"
   },
   {
    "duration": 21,
    "start_time": "2023-03-01T17:14:22.954Z"
   },
   {
    "duration": 0,
    "start_time": "2023-03-01T17:14:22.977Z"
   },
   {
    "duration": 0,
    "start_time": "2023-03-01T17:14:22.978Z"
   },
   {
    "duration": 0,
    "start_time": "2023-03-01T17:14:22.979Z"
   },
   {
    "duration": 0,
    "start_time": "2023-03-01T17:14:22.980Z"
   },
   {
    "duration": 0,
    "start_time": "2023-03-01T17:14:22.981Z"
   },
   {
    "duration": 0,
    "start_time": "2023-03-01T17:14:22.982Z"
   },
   {
    "duration": 0,
    "start_time": "2023-03-01T17:14:22.983Z"
   },
   {
    "duration": 0,
    "start_time": "2023-03-01T17:14:22.983Z"
   },
   {
    "duration": 0,
    "start_time": "2023-03-01T17:14:22.984Z"
   },
   {
    "duration": 9,
    "start_time": "2023-03-01T17:14:22.986Z"
   },
   {
    "duration": 0,
    "start_time": "2023-03-01T17:14:22.996Z"
   },
   {
    "duration": 0,
    "start_time": "2023-03-01T17:14:22.997Z"
   },
   {
    "duration": 0,
    "start_time": "2023-03-01T17:14:22.998Z"
   },
   {
    "duration": 0,
    "start_time": "2023-03-01T17:14:22.999Z"
   },
   {
    "duration": 0,
    "start_time": "2023-03-01T17:14:23.000Z"
   },
   {
    "duration": 123,
    "start_time": "2023-03-01T17:23:40.886Z"
   },
   {
    "duration": 58,
    "start_time": "2023-03-01T17:23:49.527Z"
   },
   {
    "duration": 3,
    "start_time": "2023-03-01T17:23:49.587Z"
   },
   {
    "duration": 21,
    "start_time": "2023-03-01T17:23:49.592Z"
   },
   {
    "duration": 25,
    "start_time": "2023-03-01T17:23:49.615Z"
   },
   {
    "duration": 15,
    "start_time": "2023-03-01T17:23:49.642Z"
   },
   {
    "duration": 4,
    "start_time": "2023-03-01T17:23:49.659Z"
   },
   {
    "duration": 10,
    "start_time": "2023-03-01T17:23:49.665Z"
   },
   {
    "duration": 13,
    "start_time": "2023-03-01T17:23:49.676Z"
   },
   {
    "duration": 8,
    "start_time": "2023-03-01T17:23:49.690Z"
   },
   {
    "duration": 49,
    "start_time": "2023-03-01T17:23:49.700Z"
   },
   {
    "duration": 12,
    "start_time": "2023-03-01T17:23:49.751Z"
   },
   {
    "duration": 6,
    "start_time": "2023-03-01T17:23:49.764Z"
   },
   {
    "duration": 9,
    "start_time": "2023-03-01T17:23:49.771Z"
   },
   {
    "duration": 540,
    "start_time": "2023-03-01T17:23:49.782Z"
   },
   {
    "duration": 144,
    "start_time": "2023-03-01T17:23:50.324Z"
   },
   {
    "duration": 18,
    "start_time": "2023-03-01T17:23:50.470Z"
   },
   {
    "duration": 1292,
    "start_time": "2023-03-01T17:28:50.679Z"
   },
   {
    "duration": 1221,
    "start_time": "2023-03-01T17:29:10.240Z"
   },
   {
    "duration": 3854,
    "start_time": "2023-03-01T17:34:56.037Z"
   },
   {
    "duration": 4232,
    "start_time": "2023-03-01T17:35:12.777Z"
   },
   {
    "duration": 5028,
    "start_time": "2023-03-01T17:35:48.441Z"
   },
   {
    "duration": 8935,
    "start_time": "2023-03-01T17:36:06.079Z"
   },
   {
    "duration": 6,
    "start_time": "2023-03-01T17:44:10.164Z"
   },
   {
    "duration": 5,
    "start_time": "2023-03-01T17:46:05.060Z"
   },
   {
    "duration": 1195,
    "start_time": "2023-03-01T17:48:05.849Z"
   },
   {
    "duration": 128,
    "start_time": "2023-03-01T17:48:38.081Z"
   },
   {
    "duration": 4,
    "start_time": "2023-03-01T17:51:07.351Z"
   },
   {
    "duration": 5,
    "start_time": "2023-03-01T17:51:46.930Z"
   },
   {
    "duration": 4,
    "start_time": "2023-03-01T17:51:47.786Z"
   },
   {
    "duration": 100,
    "start_time": "2023-03-01T17:52:05.858Z"
   },
   {
    "duration": 127,
    "start_time": "2023-03-01T17:52:37.990Z"
   },
   {
    "duration": 15,
    "start_time": "2023-03-01T17:53:18.687Z"
   },
   {
    "duration": 5,
    "start_time": "2023-03-01T17:54:04.025Z"
   },
   {
    "duration": 4,
    "start_time": "2023-03-01T17:54:05.439Z"
   },
   {
    "duration": 153,
    "start_time": "2023-03-01T17:56:05.115Z"
   },
   {
    "duration": 145,
    "start_time": "2023-03-01T17:56:16.183Z"
   },
   {
    "duration": 128,
    "start_time": "2023-03-01T17:56:26.571Z"
   },
   {
    "duration": 5,
    "start_time": "2023-03-01T17:56:33.268Z"
   },
   {
    "duration": 5,
    "start_time": "2023-03-01T17:56:36.663Z"
   },
   {
    "duration": 14,
    "start_time": "2023-03-01T17:56:39.655Z"
   },
   {
    "duration": 145,
    "start_time": "2023-03-01T17:57:30.304Z"
   },
   {
    "duration": 123,
    "start_time": "2023-03-01T17:57:37.100Z"
   },
   {
    "duration": 130,
    "start_time": "2023-03-01T17:57:53.223Z"
   },
   {
    "duration": 130,
    "start_time": "2023-03-01T17:58:10.335Z"
   },
   {
    "duration": 131,
    "start_time": "2023-03-01T17:58:21.892Z"
   },
   {
    "duration": 8,
    "start_time": "2023-03-01T18:06:24.670Z"
   },
   {
    "duration": 809,
    "start_time": "2023-03-01T18:06:55.862Z"
   },
   {
    "duration": 1359,
    "start_time": "2023-03-03T07:40:29.470Z"
   },
   {
    "duration": 10,
    "start_time": "2023-03-03T07:40:46.038Z"
   },
   {
    "duration": 213,
    "start_time": "2023-03-03T07:41:01.742Z"
   },
   {
    "duration": 4,
    "start_time": "2023-03-03T07:41:01.957Z"
   },
   {
    "duration": 53,
    "start_time": "2023-03-03T07:41:01.963Z"
   },
   {
    "duration": 38,
    "start_time": "2023-03-03T07:41:02.019Z"
   },
   {
    "duration": 25,
    "start_time": "2023-03-03T07:41:02.059Z"
   },
   {
    "duration": 5,
    "start_time": "2023-03-03T07:41:02.086Z"
   },
   {
    "duration": 23,
    "start_time": "2023-03-03T07:41:02.093Z"
   },
   {
    "duration": 35,
    "start_time": "2023-03-03T07:41:02.118Z"
   },
   {
    "duration": 36,
    "start_time": "2023-03-03T07:41:02.155Z"
   },
   {
    "duration": 31,
    "start_time": "2023-03-03T07:41:02.193Z"
   },
   {
    "duration": 13,
    "start_time": "2023-03-03T07:41:02.226Z"
   },
   {
    "duration": 10,
    "start_time": "2023-03-03T07:41:02.241Z"
   },
   {
    "duration": 9,
    "start_time": "2023-03-03T07:41:02.253Z"
   },
   {
    "duration": 174,
    "start_time": "2023-03-03T07:41:02.263Z"
   },
   {
    "duration": 153,
    "start_time": "2023-03-03T07:41:02.441Z"
   },
   {
    "duration": 17,
    "start_time": "2023-03-03T07:41:02.596Z"
   },
   {
    "duration": 1282,
    "start_time": "2023-03-03T07:41:02.614Z"
   },
   {
    "duration": 5,
    "start_time": "2023-03-03T07:41:03.897Z"
   },
   {
    "duration": 6,
    "start_time": "2023-03-03T07:41:03.903Z"
   },
   {
    "duration": 34,
    "start_time": "2023-03-03T07:41:03.911Z"
   },
   {
    "duration": 155,
    "start_time": "2023-03-03T07:41:03.947Z"
   },
   {
    "duration": 172,
    "start_time": "2023-03-03T07:41:04.104Z"
   },
   {
    "duration": 214,
    "start_time": "2023-03-03T07:41:04.277Z"
   },
   {
    "duration": 148,
    "start_time": "2023-03-03T07:41:04.493Z"
   },
   {
    "duration": 136,
    "start_time": "2023-03-03T07:41:04.642Z"
   },
   {
    "duration": 146,
    "start_time": "2023-03-03T07:41:04.780Z"
   },
   {
    "duration": 221,
    "start_time": "2023-03-03T07:41:04.927Z"
   },
   {
    "duration": 227,
    "start_time": "2023-03-03T07:49:52.434Z"
   },
   {
    "duration": 248,
    "start_time": "2023-03-03T07:50:01.973Z"
   },
   {
    "duration": 320,
    "start_time": "2023-03-03T07:50:06.753Z"
   },
   {
    "duration": 14,
    "start_time": "2023-03-03T07:51:18.021Z"
   },
   {
    "duration": 348,
    "start_time": "2023-03-03T07:52:48.470Z"
   },
   {
    "duration": 332,
    "start_time": "2023-03-03T07:52:59.606Z"
   },
   {
    "duration": 408,
    "start_time": "2023-03-03T07:53:04.077Z"
   },
   {
    "duration": 71,
    "start_time": "2023-03-03T07:54:07.861Z"
   },
   {
    "duration": 343,
    "start_time": "2023-03-03T07:54:12.650Z"
   },
   {
    "duration": 69,
    "start_time": "2023-03-03T07:54:30.998Z"
   },
   {
    "duration": 327,
    "start_time": "2023-03-03T07:54:34.986Z"
   },
   {
    "duration": 431,
    "start_time": "2023-03-03T07:54:46.967Z"
   },
   {
    "duration": 371,
    "start_time": "2023-03-03T07:54:57.205Z"
   },
   {
    "duration": 230,
    "start_time": "2023-03-03T07:55:25.964Z"
   },
   {
    "duration": 259,
    "start_time": "2023-03-03T07:59:28.739Z"
   },
   {
    "duration": 279,
    "start_time": "2023-03-03T08:08:08.214Z"
   },
   {
    "duration": 139,
    "start_time": "2023-03-03T08:08:40.074Z"
   },
   {
    "duration": 76,
    "start_time": "2023-03-03T08:08:42.810Z"
   },
   {
    "duration": 70,
    "start_time": "2023-03-03T08:09:16.270Z"
   },
   {
    "duration": 5,
    "start_time": "2023-03-03T08:09:16.342Z"
   },
   {
    "duration": 72,
    "start_time": "2023-03-03T08:09:16.348Z"
   },
   {
    "duration": 27,
    "start_time": "2023-03-03T08:09:16.422Z"
   },
   {
    "duration": 15,
    "start_time": "2023-03-03T08:09:16.452Z"
   },
   {
    "duration": 7,
    "start_time": "2023-03-03T08:09:16.469Z"
   },
   {
    "duration": 11,
    "start_time": "2023-03-03T08:09:16.478Z"
   },
   {
    "duration": 13,
    "start_time": "2023-03-03T08:09:16.491Z"
   },
   {
    "duration": 36,
    "start_time": "2023-03-03T08:09:16.506Z"
   },
   {
    "duration": 21,
    "start_time": "2023-03-03T08:09:16.544Z"
   },
   {
    "duration": 20,
    "start_time": "2023-03-03T08:09:16.567Z"
   },
   {
    "duration": 8,
    "start_time": "2023-03-03T08:09:16.589Z"
   },
   {
    "duration": 10,
    "start_time": "2023-03-03T08:09:16.599Z"
   },
   {
    "duration": 153,
    "start_time": "2023-03-03T08:09:16.641Z"
   },
   {
    "duration": 155,
    "start_time": "2023-03-03T08:09:16.796Z"
   },
   {
    "duration": 19,
    "start_time": "2023-03-03T08:09:16.952Z"
   },
   {
    "duration": 1336,
    "start_time": "2023-03-03T08:09:16.973Z"
   },
   {
    "duration": 6,
    "start_time": "2023-03-03T08:09:18.311Z"
   },
   {
    "duration": 5,
    "start_time": "2023-03-03T08:09:18.318Z"
   },
   {
    "duration": 14,
    "start_time": "2023-03-03T08:09:18.340Z"
   },
   {
    "duration": 158,
    "start_time": "2023-03-03T08:09:18.356Z"
   },
   {
    "duration": 271,
    "start_time": "2023-03-03T08:09:18.516Z"
   },
   {
    "duration": 145,
    "start_time": "2023-03-03T08:09:18.789Z"
   },
   {
    "duration": 145,
    "start_time": "2023-03-03T08:09:18.941Z"
   },
   {
    "duration": 141,
    "start_time": "2023-03-03T08:09:19.088Z"
   },
   {
    "duration": 145,
    "start_time": "2023-03-03T08:09:19.231Z"
   },
   {
    "duration": 216,
    "start_time": "2023-03-03T08:09:19.378Z"
   },
   {
    "duration": 136,
    "start_time": "2023-03-03T08:09:19.596Z"
   },
   {
    "duration": 88,
    "start_time": "2023-03-03T08:09:19.734Z"
   },
   {
    "duration": 77,
    "start_time": "2023-03-03T08:09:40.902Z"
   },
   {
    "duration": 142,
    "start_time": "2023-03-03T08:09:50.699Z"
   },
   {
    "duration": 10,
    "start_time": "2023-03-03T08:18:24.422Z"
   },
   {
    "duration": 7,
    "start_time": "2023-03-03T08:18:43.566Z"
   },
   {
    "duration": 8,
    "start_time": "2023-03-03T08:18:44.113Z"
   },
   {
    "duration": 133,
    "start_time": "2023-03-03T08:19:48.008Z"
   },
   {
    "duration": 127,
    "start_time": "2023-03-03T08:20:28.798Z"
   },
   {
    "duration": 125,
    "start_time": "2023-03-03T08:20:33.394Z"
   },
   {
    "duration": 255,
    "start_time": "2023-03-03T08:22:18.870Z"
   },
   {
    "duration": 242,
    "start_time": "2023-03-03T08:22:32.058Z"
   },
   {
    "duration": 5,
    "start_time": "2023-03-03T08:23:38.362Z"
   },
   {
    "duration": 14,
    "start_time": "2023-03-03T08:27:16.372Z"
   },
   {
    "duration": 451,
    "start_time": "2023-03-03T08:31:04.302Z"
   },
   {
    "duration": 313,
    "start_time": "2023-03-03T08:31:33.090Z"
   },
   {
    "duration": 301,
    "start_time": "2023-03-03T08:31:39.886Z"
   },
   {
    "duration": 318,
    "start_time": "2023-03-03T08:31:45.311Z"
   },
   {
    "duration": 333,
    "start_time": "2023-03-03T08:31:52.810Z"
   },
   {
    "duration": 100,
    "start_time": "2023-03-03T08:34:50.977Z"
   },
   {
    "duration": 16,
    "start_time": "2023-03-03T08:47:34.178Z"
   },
   {
    "duration": 14,
    "start_time": "2023-03-03T08:50:08.967Z"
   },
   {
    "duration": 13,
    "start_time": "2023-03-03T08:52:08.057Z"
   },
   {
    "duration": 17,
    "start_time": "2023-03-03T08:52:25.635Z"
   },
   {
    "duration": 72,
    "start_time": "2023-03-03T08:54:05.909Z"
   },
   {
    "duration": 10,
    "start_time": "2023-03-03T08:54:43.684Z"
   },
   {
    "duration": 16,
    "start_time": "2023-03-03T08:54:48.129Z"
   },
   {
    "duration": 15,
    "start_time": "2023-03-03T08:55:07.497Z"
   },
   {
    "duration": 14,
    "start_time": "2023-03-03T08:55:35.868Z"
   },
   {
    "duration": 13,
    "start_time": "2023-03-03T08:55:38.660Z"
   },
   {
    "duration": 76,
    "start_time": "2023-03-03T08:57:49.375Z"
   },
   {
    "duration": 16,
    "start_time": "2023-03-03T08:58:45.326Z"
   },
   {
    "duration": 9,
    "start_time": "2023-03-03T09:03:55.908Z"
   },
   {
    "duration": 10,
    "start_time": "2023-03-03T09:04:50.204Z"
   },
   {
    "duration": 10,
    "start_time": "2023-03-03T09:06:24.000Z"
   },
   {
    "duration": 12,
    "start_time": "2023-03-03T09:06:48.816Z"
   },
   {
    "duration": 9,
    "start_time": "2023-03-03T09:07:17.700Z"
   },
   {
    "duration": 11,
    "start_time": "2023-03-03T09:07:48.654Z"
   },
   {
    "duration": 13,
    "start_time": "2023-03-03T09:16:11.665Z"
   },
   {
    "duration": 10,
    "start_time": "2023-03-03T09:16:35.967Z"
   },
   {
    "duration": 10,
    "start_time": "2023-03-03T09:16:46.966Z"
   },
   {
    "duration": 9,
    "start_time": "2023-03-03T09:16:56.119Z"
   },
   {
    "duration": 5,
    "start_time": "2023-03-03T09:22:12.082Z"
   },
   {
    "duration": 4,
    "start_time": "2023-03-03T09:22:21.528Z"
   },
   {
    "duration": 6,
    "start_time": "2023-03-03T09:27:57.206Z"
   },
   {
    "duration": 6,
    "start_time": "2023-03-03T09:27:57.563Z"
   },
   {
    "duration": 4,
    "start_time": "2023-03-03T09:27:58.077Z"
   },
   {
    "duration": 9,
    "start_time": "2023-03-03T09:27:58.517Z"
   },
   {
    "duration": 88,
    "start_time": "2023-03-03T09:27:59.009Z"
   },
   {
    "duration": 8,
    "start_time": "2023-03-03T09:31:29.174Z"
   },
   {
    "duration": 10,
    "start_time": "2023-03-03T09:32:48.666Z"
   },
   {
    "duration": 4,
    "start_time": "2023-03-03T09:32:58.016Z"
   },
   {
    "duration": 4,
    "start_time": "2023-03-03T09:33:08.103Z"
   },
   {
    "duration": 82,
    "start_time": "2023-03-03T09:34:12.591Z"
   },
   {
    "duration": 666,
    "start_time": "2023-03-05T06:56:46.467Z"
   },
   {
    "duration": 8,
    "start_time": "2023-03-05T06:58:01.478Z"
   },
   {
    "duration": 24,
    "start_time": "2023-03-05T06:58:04.381Z"
   },
   {
    "duration": 8,
    "start_time": "2023-03-05T06:58:40.887Z"
   },
   {
    "duration": 78,
    "start_time": "2023-03-05T07:03:00.489Z"
   },
   {
    "duration": 88,
    "start_time": "2023-03-05T07:03:13.949Z"
   },
   {
    "duration": 3,
    "start_time": "2023-03-05T07:03:14.039Z"
   },
   {
    "duration": 63,
    "start_time": "2023-03-05T07:03:14.044Z"
   },
   {
    "duration": 21,
    "start_time": "2023-03-05T07:03:14.109Z"
   },
   {
    "duration": 14,
    "start_time": "2023-03-05T07:03:14.132Z"
   },
   {
    "duration": 36,
    "start_time": "2023-03-05T07:03:14.148Z"
   },
   {
    "duration": 14,
    "start_time": "2023-03-05T07:03:14.186Z"
   },
   {
    "duration": 19,
    "start_time": "2023-03-05T07:03:14.201Z"
   },
   {
    "duration": 9,
    "start_time": "2023-03-05T07:03:14.222Z"
   },
   {
    "duration": 30,
    "start_time": "2023-03-05T07:03:14.234Z"
   },
   {
    "duration": 30,
    "start_time": "2023-03-05T07:03:14.266Z"
   },
   {
    "duration": 10,
    "start_time": "2023-03-05T07:03:14.298Z"
   },
   {
    "duration": 8,
    "start_time": "2023-03-05T07:03:14.310Z"
   },
   {
    "duration": 598,
    "start_time": "2023-03-05T07:03:14.319Z"
   },
   {
    "duration": 158,
    "start_time": "2023-03-05T07:03:14.919Z"
   },
   {
    "duration": 30,
    "start_time": "2023-03-05T07:03:15.079Z"
   },
   {
    "duration": 0,
    "start_time": "2023-03-05T07:03:15.112Z"
   },
   {
    "duration": 0,
    "start_time": "2023-03-05T07:03:15.114Z"
   },
   {
    "duration": 0,
    "start_time": "2023-03-05T07:03:15.115Z"
   },
   {
    "duration": 0,
    "start_time": "2023-03-05T07:03:15.117Z"
   },
   {
    "duration": 0,
    "start_time": "2023-03-05T07:03:15.118Z"
   },
   {
    "duration": 0,
    "start_time": "2023-03-05T07:03:15.120Z"
   },
   {
    "duration": 0,
    "start_time": "2023-03-05T07:03:15.122Z"
   },
   {
    "duration": 0,
    "start_time": "2023-03-05T07:03:15.124Z"
   },
   {
    "duration": 0,
    "start_time": "2023-03-05T07:03:15.151Z"
   },
   {
    "duration": 0,
    "start_time": "2023-03-05T07:03:15.152Z"
   },
   {
    "duration": 0,
    "start_time": "2023-03-05T07:03:15.153Z"
   },
   {
    "duration": 0,
    "start_time": "2023-03-05T07:03:15.154Z"
   },
   {
    "duration": 0,
    "start_time": "2023-03-05T07:03:15.158Z"
   },
   {
    "duration": 0,
    "start_time": "2023-03-05T07:03:15.159Z"
   },
   {
    "duration": 0,
    "start_time": "2023-03-05T07:03:15.160Z"
   },
   {
    "duration": 0,
    "start_time": "2023-03-05T07:03:15.161Z"
   },
   {
    "duration": 0,
    "start_time": "2023-03-05T07:03:15.162Z"
   },
   {
    "duration": 0,
    "start_time": "2023-03-05T07:03:15.164Z"
   },
   {
    "duration": 0,
    "start_time": "2023-03-05T07:03:15.165Z"
   },
   {
    "duration": 0,
    "start_time": "2023-03-05T07:03:15.166Z"
   },
   {
    "duration": 0,
    "start_time": "2023-03-05T07:03:15.168Z"
   },
   {
    "duration": 0,
    "start_time": "2023-03-05T07:03:15.169Z"
   },
   {
    "duration": 0,
    "start_time": "2023-03-05T07:03:15.170Z"
   },
   {
    "duration": 0,
    "start_time": "2023-03-05T07:03:15.171Z"
   },
   {
    "duration": 0,
    "start_time": "2023-03-05T07:03:15.173Z"
   },
   {
    "duration": 0,
    "start_time": "2023-03-05T07:03:15.174Z"
   },
   {
    "duration": 0,
    "start_time": "2023-03-05T07:03:15.175Z"
   },
   {
    "duration": 0,
    "start_time": "2023-03-05T07:03:15.176Z"
   },
   {
    "duration": 0,
    "start_time": "2023-03-05T07:03:15.179Z"
   },
   {
    "duration": 0,
    "start_time": "2023-03-05T07:03:15.180Z"
   },
   {
    "duration": 0,
    "start_time": "2023-03-05T07:03:15.181Z"
   },
   {
    "duration": 0,
    "start_time": "2023-03-05T07:03:15.181Z"
   },
   {
    "duration": 540,
    "start_time": "2023-03-05T07:04:08.280Z"
   },
   {
    "duration": 3,
    "start_time": "2023-03-05T07:04:08.823Z"
   },
   {
    "duration": 33,
    "start_time": "2023-03-05T07:04:08.828Z"
   },
   {
    "duration": 48,
    "start_time": "2023-03-05T07:04:08.863Z"
   },
   {
    "duration": 14,
    "start_time": "2023-03-05T07:04:08.914Z"
   },
   {
    "duration": 7,
    "start_time": "2023-03-05T07:04:08.930Z"
   },
   {
    "duration": 17,
    "start_time": "2023-03-05T07:04:08.939Z"
   },
   {
    "duration": 50,
    "start_time": "2023-03-05T07:04:08.961Z"
   },
   {
    "duration": 12,
    "start_time": "2023-03-05T07:04:09.013Z"
   },
   {
    "duration": 31,
    "start_time": "2023-03-05T07:04:09.027Z"
   },
   {
    "duration": 33,
    "start_time": "2023-03-05T07:04:09.063Z"
   },
   {
    "duration": 13,
    "start_time": "2023-03-05T07:04:09.098Z"
   },
   {
    "duration": 8,
    "start_time": "2023-03-05T07:04:09.113Z"
   },
   {
    "duration": 475,
    "start_time": "2023-03-05T07:04:09.124Z"
   },
   {
    "duration": 170,
    "start_time": "2023-03-05T07:04:09.600Z"
   },
   {
    "duration": 96,
    "start_time": "2023-03-05T07:04:09.771Z"
   },
   {
    "duration": 0,
    "start_time": "2023-03-05T07:04:09.869Z"
   },
   {
    "duration": 0,
    "start_time": "2023-03-05T07:04:09.870Z"
   },
   {
    "duration": 0,
    "start_time": "2023-03-05T07:04:09.874Z"
   },
   {
    "duration": 0,
    "start_time": "2023-03-05T07:04:09.878Z"
   },
   {
    "duration": 0,
    "start_time": "2023-03-05T07:04:09.881Z"
   },
   {
    "duration": 0,
    "start_time": "2023-03-05T07:04:09.882Z"
   },
   {
    "duration": 0,
    "start_time": "2023-03-05T07:04:09.883Z"
   },
   {
    "duration": 0,
    "start_time": "2023-03-05T07:04:09.884Z"
   },
   {
    "duration": 0,
    "start_time": "2023-03-05T07:04:09.886Z"
   },
   {
    "duration": 0,
    "start_time": "2023-03-05T07:04:09.887Z"
   },
   {
    "duration": 0,
    "start_time": "2023-03-05T07:04:09.888Z"
   },
   {
    "duration": 0,
    "start_time": "2023-03-05T07:04:09.889Z"
   },
   {
    "duration": 0,
    "start_time": "2023-03-05T07:04:09.891Z"
   },
   {
    "duration": 0,
    "start_time": "2023-03-05T07:04:09.892Z"
   },
   {
    "duration": 0,
    "start_time": "2023-03-05T07:04:09.894Z"
   },
   {
    "duration": 0,
    "start_time": "2023-03-05T07:04:09.895Z"
   },
   {
    "duration": 0,
    "start_time": "2023-03-05T07:04:09.897Z"
   },
   {
    "duration": 0,
    "start_time": "2023-03-05T07:04:09.898Z"
   },
   {
    "duration": 0,
    "start_time": "2023-03-05T07:04:09.900Z"
   },
   {
    "duration": 0,
    "start_time": "2023-03-05T07:04:09.905Z"
   },
   {
    "duration": 0,
    "start_time": "2023-03-05T07:04:09.912Z"
   },
   {
    "duration": 0,
    "start_time": "2023-03-05T07:04:09.913Z"
   },
   {
    "duration": 0,
    "start_time": "2023-03-05T07:04:09.914Z"
   },
   {
    "duration": 0,
    "start_time": "2023-03-05T07:04:09.916Z"
   },
   {
    "duration": 0,
    "start_time": "2023-03-05T07:04:09.917Z"
   },
   {
    "duration": 0,
    "start_time": "2023-03-05T07:04:09.919Z"
   },
   {
    "duration": 0,
    "start_time": "2023-03-05T07:04:09.920Z"
   },
   {
    "duration": 0,
    "start_time": "2023-03-05T07:04:09.921Z"
   },
   {
    "duration": 0,
    "start_time": "2023-03-05T07:04:09.923Z"
   },
   {
    "duration": 0,
    "start_time": "2023-03-05T07:04:09.948Z"
   },
   {
    "duration": 0,
    "start_time": "2023-03-05T07:04:09.952Z"
   },
   {
    "duration": 0,
    "start_time": "2023-03-05T07:04:09.954Z"
   },
   {
    "duration": 6,
    "start_time": "2023-03-05T07:05:40.191Z"
   },
   {
    "duration": 6,
    "start_time": "2023-03-05T07:05:43.302Z"
   },
   {
    "duration": 89,
    "start_time": "2023-03-05T07:05:47.533Z"
   },
   {
    "duration": 4,
    "start_time": "2023-03-05T07:05:47.625Z"
   },
   {
    "duration": 50,
    "start_time": "2023-03-05T07:05:47.632Z"
   },
   {
    "duration": 28,
    "start_time": "2023-03-05T07:05:47.686Z"
   },
   {
    "duration": 19,
    "start_time": "2023-03-05T07:05:47.716Z"
   },
   {
    "duration": 6,
    "start_time": "2023-03-05T07:05:47.736Z"
   },
   {
    "duration": 56,
    "start_time": "2023-03-05T07:05:47.744Z"
   },
   {
    "duration": 16,
    "start_time": "2023-03-05T07:05:47.802Z"
   },
   {
    "duration": 11,
    "start_time": "2023-03-05T07:05:47.820Z"
   },
   {
    "duration": 38,
    "start_time": "2023-03-05T07:05:47.835Z"
   },
   {
    "duration": 31,
    "start_time": "2023-03-05T07:05:47.875Z"
   },
   {
    "duration": 7,
    "start_time": "2023-03-05T07:05:47.908Z"
   },
   {
    "duration": 11,
    "start_time": "2023-03-05T07:05:47.917Z"
   },
   {
    "duration": 207,
    "start_time": "2023-03-05T07:05:47.931Z"
   },
   {
    "duration": 175,
    "start_time": "2023-03-05T07:05:48.140Z"
   },
   {
    "duration": 35,
    "start_time": "2023-03-05T07:05:48.317Z"
   },
   {
    "duration": 1492,
    "start_time": "2023-03-05T07:05:48.354Z"
   },
   {
    "duration": 9,
    "start_time": "2023-03-05T07:05:49.847Z"
   },
   {
    "duration": 36,
    "start_time": "2023-03-05T07:05:49.857Z"
   },
   {
    "duration": 14,
    "start_time": "2023-03-05T07:05:49.895Z"
   },
   {
    "duration": 168,
    "start_time": "2023-03-05T07:05:49.911Z"
   },
   {
    "duration": 162,
    "start_time": "2023-03-05T07:05:50.080Z"
   },
   {
    "duration": 161,
    "start_time": "2023-03-05T07:05:50.244Z"
   },
   {
    "duration": 195,
    "start_time": "2023-03-05T07:05:50.407Z"
   },
   {
    "duration": 190,
    "start_time": "2023-03-05T07:05:50.605Z"
   },
   {
    "duration": 162,
    "start_time": "2023-03-05T07:05:50.798Z"
   },
   {
    "duration": 805,
    "start_time": "2023-03-05T07:05:50.963Z"
   },
   {
    "duration": 151,
    "start_time": "2023-03-05T07:05:51.778Z"
   },
   {
    "duration": 165,
    "start_time": "2023-03-05T07:05:51.931Z"
   },
   {
    "duration": 190,
    "start_time": "2023-03-05T07:05:52.098Z"
   },
   {
    "duration": 138,
    "start_time": "2023-03-05T07:05:52.302Z"
   },
   {
    "duration": 18,
    "start_time": "2023-03-05T07:05:52.441Z"
   },
   {
    "duration": 70,
    "start_time": "2023-03-05T07:05:52.464Z"
   },
   {
    "duration": 31,
    "start_time": "2023-03-05T07:05:52.536Z"
   },
   {
    "duration": 55,
    "start_time": "2023-03-05T07:05:52.571Z"
   },
   {
    "duration": 22,
    "start_time": "2023-03-05T07:05:52.627Z"
   },
   {
    "duration": 49,
    "start_time": "2023-03-05T07:05:52.651Z"
   },
   {
    "duration": 105,
    "start_time": "2023-03-05T07:05:52.701Z"
   },
   {
    "duration": 12,
    "start_time": "2023-03-05T07:05:52.808Z"
   },
   {
    "duration": 13,
    "start_time": "2023-03-05T07:05:52.822Z"
   },
   {
    "duration": 20,
    "start_time": "2023-03-05T07:05:52.836Z"
   },
   {
    "duration": 35,
    "start_time": "2023-03-05T07:05:52.857Z"
   },
   {
    "duration": 7,
    "start_time": "2023-03-05T07:05:52.895Z"
   },
   {
    "duration": 10,
    "start_time": "2023-03-05T07:05:52.904Z"
   },
   {
    "duration": 6,
    "start_time": "2023-03-05T07:05:52.917Z"
   },
   {
    "duration": 7,
    "start_time": "2023-03-05T07:05:52.925Z"
   },
   {
    "duration": 7,
    "start_time": "2023-03-05T07:05:52.934Z"
   },
   {
    "duration": 48,
    "start_time": "2023-03-05T07:05:52.943Z"
   },
   {
    "duration": 15,
    "start_time": "2023-03-05T07:10:19.597Z"
   },
   {
    "duration": 73,
    "start_time": "2023-03-05T07:12:07.830Z"
   },
   {
    "duration": 93,
    "start_time": "2023-03-05T07:12:51.465Z"
   },
   {
    "duration": 5,
    "start_time": "2023-03-05T07:12:51.567Z"
   },
   {
    "duration": 60,
    "start_time": "2023-03-05T07:12:51.574Z"
   },
   {
    "duration": 43,
    "start_time": "2023-03-05T07:12:51.635Z"
   },
   {
    "duration": 60,
    "start_time": "2023-03-05T07:12:51.681Z"
   },
   {
    "duration": 6,
    "start_time": "2023-03-05T07:12:51.742Z"
   },
   {
    "duration": 72,
    "start_time": "2023-03-05T07:12:51.750Z"
   },
   {
    "duration": 13,
    "start_time": "2023-03-05T07:12:51.824Z"
   },
   {
    "duration": 32,
    "start_time": "2023-03-05T07:12:51.839Z"
   },
   {
    "duration": 60,
    "start_time": "2023-03-05T07:12:51.873Z"
   },
   {
    "duration": 14,
    "start_time": "2023-03-05T07:12:51.935Z"
   },
   {
    "duration": 60,
    "start_time": "2023-03-05T07:12:51.953Z"
   },
   {
    "duration": 12,
    "start_time": "2023-03-05T07:12:52.015Z"
   },
   {
    "duration": 201,
    "start_time": "2023-03-05T07:12:52.030Z"
   },
   {
    "duration": 182,
    "start_time": "2023-03-05T07:12:52.232Z"
   },
   {
    "duration": 16,
    "start_time": "2023-03-05T07:12:52.416Z"
   },
   {
    "duration": 1661,
    "start_time": "2023-03-05T07:12:52.434Z"
   },
   {
    "duration": 5,
    "start_time": "2023-03-05T07:12:54.103Z"
   },
   {
    "duration": 15,
    "start_time": "2023-03-05T07:12:54.110Z"
   },
   {
    "duration": 18,
    "start_time": "2023-03-05T07:12:54.126Z"
   },
   {
    "duration": 172,
    "start_time": "2023-03-05T07:12:54.146Z"
   },
   {
    "duration": 178,
    "start_time": "2023-03-05T07:12:54.320Z"
   },
   {
    "duration": 179,
    "start_time": "2023-03-05T07:12:54.500Z"
   },
   {
    "duration": 190,
    "start_time": "2023-03-05T07:12:54.684Z"
   },
   {
    "duration": 167,
    "start_time": "2023-03-05T07:12:54.877Z"
   },
   {
    "duration": 175,
    "start_time": "2023-03-05T07:12:55.046Z"
   },
   {
    "duration": 421,
    "start_time": "2023-03-05T07:12:55.222Z"
   },
   {
    "duration": 187,
    "start_time": "2023-03-05T07:12:55.644Z"
   },
   {
    "duration": 191,
    "start_time": "2023-03-05T07:12:55.833Z"
   },
   {
    "duration": 177,
    "start_time": "2023-03-05T07:12:56.026Z"
   },
   {
    "duration": 212,
    "start_time": "2023-03-05T07:12:56.205Z"
   },
   {
    "duration": 12,
    "start_time": "2023-03-05T07:12:56.420Z"
   },
   {
    "duration": 45,
    "start_time": "2023-03-05T07:12:56.434Z"
   },
   {
    "duration": 102,
    "start_time": "2023-03-05T07:12:56.485Z"
   },
   {
    "duration": 18,
    "start_time": "2023-03-05T07:12:56.594Z"
   },
   {
    "duration": 29,
    "start_time": "2023-03-05T07:12:56.615Z"
   },
   {
    "duration": 94,
    "start_time": "2023-03-05T07:12:56.646Z"
   },
   {
    "duration": 34,
    "start_time": "2023-03-05T07:12:56.742Z"
   },
   {
    "duration": 55,
    "start_time": "2023-03-05T07:12:56.778Z"
   },
   {
    "duration": 22,
    "start_time": "2023-03-05T07:12:56.835Z"
   },
   {
    "duration": 76,
    "start_time": "2023-03-05T07:12:56.862Z"
   },
   {
    "duration": 78,
    "start_time": "2023-03-05T07:12:56.941Z"
   },
   {
    "duration": 8,
    "start_time": "2023-03-05T07:12:57.022Z"
   },
   {
    "duration": 6,
    "start_time": "2023-03-05T07:12:57.032Z"
   },
   {
    "duration": 10,
    "start_time": "2023-03-05T07:12:57.040Z"
   },
   {
    "duration": 57,
    "start_time": "2023-03-05T07:12:57.056Z"
   },
   {
    "duration": 10,
    "start_time": "2023-03-05T07:12:57.116Z"
   },
   {
    "duration": 6,
    "start_time": "2023-03-05T07:12:57.127Z"
   },
   {
    "duration": 9,
    "start_time": "2023-03-05T07:12:57.135Z"
   },
   {
    "duration": 1277,
    "start_time": "2023-03-05T07:21:31.564Z"
   },
   {
    "duration": 387,
    "start_time": "2023-03-05T07:21:57.126Z"
   },
   {
    "duration": 363,
    "start_time": "2023-03-05T07:23:08.107Z"
   },
   {
    "duration": 343,
    "start_time": "2023-03-05T07:23:29.916Z"
   },
   {
    "duration": 406,
    "start_time": "2023-03-05T07:24:29.538Z"
   },
   {
    "duration": 435,
    "start_time": "2023-03-05T07:24:36.598Z"
   },
   {
    "duration": 381,
    "start_time": "2023-03-05T07:27:57.689Z"
   },
   {
    "duration": 416,
    "start_time": "2023-03-05T07:28:37.376Z"
   },
   {
    "duration": 321,
    "start_time": "2023-03-05T07:30:12.196Z"
   },
   {
    "duration": 403,
    "start_time": "2023-03-05T07:30:50.516Z"
   },
   {
    "duration": 17,
    "start_time": "2023-03-05T07:32:23.721Z"
   },
   {
    "duration": 263,
    "start_time": "2023-03-05T07:37:26.569Z"
   },
   {
    "duration": 186,
    "start_time": "2023-03-05T07:39:24.325Z"
   },
   {
    "duration": 17,
    "start_time": "2023-03-05T07:44:28.575Z"
   },
   {
    "duration": 353,
    "start_time": "2023-03-05T07:44:37.108Z"
   },
   {
    "duration": 18,
    "start_time": "2023-03-05T07:47:20.564Z"
   },
   {
    "duration": 15,
    "start_time": "2023-03-05T07:52:11.919Z"
   },
   {
    "duration": 200,
    "start_time": "2023-03-05T07:55:13.294Z"
   },
   {
    "duration": 190,
    "start_time": "2023-03-05T07:59:23.278Z"
   },
   {
    "duration": 193,
    "start_time": "2023-03-05T07:59:29.589Z"
   },
   {
    "duration": 196,
    "start_time": "2023-03-05T08:00:50.078Z"
   },
   {
    "duration": 208,
    "start_time": "2023-03-05T08:01:19.428Z"
   },
   {
    "duration": 91,
    "start_time": "2023-03-05T08:01:53.652Z"
   },
   {
    "duration": 183,
    "start_time": "2023-03-05T08:02:37.320Z"
   }
  ],
  "kernelspec": {
   "display_name": "Python 3 (ipykernel)",
   "language": "python",
   "name": "python3"
  },
  "language_info": {
   "codemirror_mode": {
    "name": "ipython",
    "version": 3
   },
   "file_extension": ".py",
   "mimetype": "text/x-python",
   "name": "python",
   "nbconvert_exporter": "python",
   "pygments_lexer": "ipython3",
   "version": "3.9.5"
  },
  "toc": {
   "base_numbering": 1,
   "nav_menu": {},
   "number_sections": true,
   "sideBar": true,
   "skip_h1_title": true,
   "title_cell": "Table of Contents",
   "title_sidebar": "Contents",
   "toc_cell": false,
   "toc_position": {},
   "toc_section_display": true,
   "toc_window_display": false
  }
 },
 "nbformat": 4,
 "nbformat_minor": 2
}
